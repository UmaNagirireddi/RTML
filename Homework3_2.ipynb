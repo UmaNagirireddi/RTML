{
  "nbformat": 4,
  "nbformat_minor": 0,
  "metadata": {
    "colab": {
      "provenance": [],
      "machine_shape": "hm",
      "gpuType": "V100",
      "include_colab_link": true
    },
    "kernelspec": {
      "name": "python3",
      "display_name": "Python 3"
    },
    "language_info": {
      "name": "python"
    },
    "accelerator": "GPU"
  },
  "cells": [
    {
      "cell_type": "markdown",
      "metadata": {
        "id": "view-in-github",
        "colab_type": "text"
      },
      "source": [
        "<a href=\"https://colab.research.google.com/github/UmaNagirireddi/RTML/blob/main/Homework3_2.ipynb\" target=\"_parent\"><img src=\"https://colab.research.google.com/assets/colab-badge.svg\" alt=\"Open In Colab\"/></a>"
      ]
    },
    {
      "cell_type": "markdown",
      "source": [
        "Homework 3\n",
        "Name : Uma Nagirireddi\n",
        "Student ID: 801377429"
      ],
      "metadata": {
        "id": "oxwD4Hf8ZYjp"
      }
    },
    {
      "cell_type": "code",
      "execution_count": null,
      "metadata": {
        "id": "57AA8_oE3zbb"
      },
      "outputs": [],
      "source": [
        "import os\n",
        "import torch\n",
        "import torch.nn as nn\n",
        "import torch.optim as optim\n",
        "from torch.utils.data import DataLoader, TensorDataset\n",
        "from torchvision import datasets, transforms\n",
        "from sklearn.model_selection import train_test_split\n",
        "from sklearn.preprocessing import StandardScaler\n",
        "import pandas as pd\n",
        "import numpy as np\n",
        "import matplotlib.pyplot as plt\n",
        "from sklearn.metrics import precision_score, recall_score, accuracy_score, confusion_matrix, ConfusionMatrixDisplay, classification_report, f1_score\n",
        "import torch\n",
        "from torch.utils.data import Dataset, DataLoader\n",
        "import numpy as np\n",
        "import requests"
      ]
    },
    {
      "cell_type": "code",
      "source": [
        "# Set device\n",
        "device = torch.device(\"cuda\" if torch.cuda.is_available() else \"cpu\")\n",
        "device"
      ],
      "metadata": {
        "colab": {
          "base_uri": "https://localhost:8080/"
        },
        "id": "hIbKPGs-4IgB",
        "outputId": "15a1b0f2-fc0d-4379-9250-64b842c6d7c9"
      },
      "execution_count": null,
      "outputs": [
        {
          "output_type": "execute_result",
          "data": {
            "text/plain": [
              "device(type='cuda')"
            ]
          },
          "metadata": {},
          "execution_count": 3
        }
      ]
    },
    {
      "cell_type": "code",
      "source": [
        "class CharLstm(nn.Module):\n",
        "    def __init__(self, input_size, hidden_size, output_size):\n",
        "        super(CharLstm, self).__init__()\n",
        "        self.hidden_size = hidden_size\n",
        "        self.embedding = nn.Embedding(input_size, hidden_size)\n",
        "        self.LSTM = nn.LSTM(hidden_size, hidden_size, batch_first=True)\n",
        "        self.fc = nn.Linear(hidden_size, output_size)\n",
        "\n",
        "    def forward(self, x):\n",
        "        embedded = self.embedding(x)\n",
        "        output, _ = self.LSTM(embedded)\n",
        "        output = self.fc(output[:, -1, :])\n",
        "        return output\n",
        "\n",
        "class CharGRU(nn.Module):\n",
        "    def __init__(self, input_size, hidden_size, output_size):\n",
        "        super(CharGRU, self).__init__()\n",
        "        self.hidden_size = hidden_size\n",
        "        self.embedding = nn.Embedding(input_size, hidden_size)\n",
        "        self.gru = nn.GRU(hidden_size, hidden_size, batch_first=True)\n",
        "        self.fc = nn.Linear(hidden_size, output_size)\n",
        "\n",
        "    def forward(self, x):\n",
        "        embedded = self.embedding(x)\n",
        "        output, _ = self.gru(embedded)\n",
        "        output = self.fc(output[:, -1, :])\n",
        "        return output\n"
      ],
      "metadata": {
        "id": "8YWOItpW4QKp"
      },
      "execution_count": null,
      "outputs": []
    },
    {
      "cell_type": "code",
      "source": [
        "# Step 1: Download the dataset\n",
        "url = \"https://raw.githubusercontent.com/karpathy/char-rnn/master/data/tinyshakespeare/input.txt\"\n",
        "response = requests.get(url)\n",
        "text = response.text  # This is the entire text data\n",
        "\n",
        "# Step 2: Prepare the dataset\n",
        "sequence_length = 20\n",
        "# Create a character mapping to integers\n",
        "chars = sorted(list(set(text)))\n",
        "char_to_int = {ch: i for i, ch in enumerate(chars)}\n",
        "int_to_char = {i: ch for i, ch in enumerate(chars)}\n",
        "\n",
        "# Encode the text into integers\n",
        "encoded_text = [char_to_int[ch] for ch in text]\n",
        "\n",
        "# Create sequences and targets\n",
        "sequences = []\n",
        "targets = []\n",
        "for i in range(0, len(encoded_text) - sequence_length):\n",
        "    seq = encoded_text[i:i+sequence_length]\n",
        "    target = encoded_text[i+sequence_length]\n",
        "    sequences.append(seq)\n",
        "    targets.append(target)\n",
        "\n",
        "# Convert lists to PyTorch tensors\n",
        "sequences = torch.tensor(sequences, dtype=torch.long)\n",
        "targets = torch.tensor(targets, dtype=torch.long)\n",
        "\n",
        "# Step 3: Create a dataset class\n",
        "class CharDataset(Dataset):\n",
        "    def __init__(self, sequences, targets):\n",
        "        self.sequences = sequences\n",
        "        self.targets = targets\n",
        "\n",
        "    def __len__(self):\n",
        "        return len(self.sequences)\n",
        "\n",
        "    def __getitem__(self, index):\n",
        "        return self.sequences[index], self.targets[index]\n",
        "\n",
        "# Instantiate the dataset\n",
        "dataset = CharDataset(sequences, targets)\n",
        "\n",
        "# Step 4: Create data loaders\n",
        "batch_size = 128\n",
        "train_size = int(len(dataset) * 0.8)\n",
        "test_size = len(dataset) - train_size\n",
        "train_dataset, test_dataset = torch.utils.data.random_split(dataset, [train_size, test_size])\n",
        "\n",
        "train_loader = DataLoader(train_dataset, shuffle=True, batch_size=batch_size)\n",
        "test_loader = DataLoader(test_dataset, shuffle=False, batch_size=batch_size)\n"
      ],
      "metadata": {
        "id": "VHepmAps4gOK"
      },
      "execution_count": null,
      "outputs": []
    },
    {
      "cell_type": "code",
      "source": [
        "def predict_next_char(model, char_to_ix, ix_to_char, initial_str, max_length):\n",
        "    model.eval()\n",
        "    with torch.no_grad():\n",
        "        initial_input = torch.tensor([char_to_ix[c] for c in initial_str[-max_length:]], dtype=torch.long).unsqueeze(0).to(device)\n",
        "        prediction = model(initial_input)\n",
        "        predicted_index = torch.argmax(prediction, dim=1).item()\n",
        "        return ix_to_char[predicted_index]"
      ],
      "metadata": {
        "id": "j7CgdoEY4VmI"
      },
      "execution_count": null,
      "outputs": []
    },
    {
      "cell_type": "code",
      "source": [
        "def train_and_evaluate_model(model, criterion, optimizer, train_loader, test_loader, device='cuda', n_epochs=20):\n",
        "    model.to(device)\n",
        "\n",
        "    train_loss_list, val_loss_list, val_accuracy_list = [], [], []\n",
        "\n",
        "    # Training loop\n",
        "    epochs = n_epochs\n",
        "    for epoch in range(epochs):\n",
        "        running_loss = 0.0\n",
        "        model.train()\n",
        "        for i, (inputs, labels) in enumerate(train_loader, 0):\n",
        "            inputs, labels = inputs.to(device), labels.to(device)\n",
        "            optimizer.zero_grad()\n",
        "            outputs = model(inputs)\n",
        "            loss = criterion(outputs, labels)\n",
        "            loss.backward()\n",
        "            optimizer.step()\n",
        "            running_loss += loss.item()\n",
        "        train_loss_list.append(running_loss / len(train_loader))\n",
        "\n",
        "        # Validation loop\n",
        "        running_loss = 0.0\n",
        "        correct = 0\n",
        "        total = 0\n",
        "        model.eval()\n",
        "        with torch.no_grad():\n",
        "            for i, (inputs, labels) in enumerate(test_loader, 0):\n",
        "                inputs, labels = inputs.to(device), labels.to(device)\n",
        "                outputs = model(inputs)\n",
        "                loss = criterion(outputs, labels)\n",
        "                running_loss += loss.item()\n",
        "                _, predicted = torch.max(outputs.data, 1)\n",
        "                total += labels.size(0)\n",
        "                correct += (predicted == labels).sum().item()\n",
        "\n",
        "        val_loss_list.append(running_loss / len(test_loader))\n",
        "\n",
        "        val_accuracy = 100 * (correct / total)\n",
        "        val_accuracy_list.append(val_accuracy)\n",
        "        print(f'Epoch {epoch + 1}, Training loss: {train_loss_list[-1]:.4f}, Validation loss: {val_loss_list[-1]:.4f}, Validation Accuracy: {val_accuracy:.2f}%')\n",
        "\n",
        "    # Calculate accuracy, precision, recall, and F1 for the final epoch (you may want to change this based on your requirements)\n",
        "\n",
        "    return {\n",
        "        'train_loss': train_loss_list,\n",
        "        'val_loss': val_loss_list,\n",
        "        'val_accuracy': val_accuracy_list,\n",
        "        'model': model\n",
        "    }\n"
      ],
      "metadata": {
        "id": "XZscUghx4iqo"
      },
      "execution_count": null,
      "outputs": []
    },
    {
      "cell_type": "code",
      "source": [
        "hidden_size = 128\n",
        "learning_rate = 0.005\n",
        "\n",
        "model = CharLstm(len(chars), hidden_size, len(chars))\n",
        "model.to(device)\n",
        "criterion = nn.CrossEntropyLoss()\n",
        "optimizer = optim.Adam(model.parameters(), lr=learning_rate)\n",
        "lstm_results = train_and_evaluate_model(model, criterion, optimizer, train_loader, test_loader, device='cuda', n_epochs=10)\n",
        "total_params = sum(p.numel() for p in lstm_results['model'].parameters())\n",
        "print(f'Total number of parameters in the model: {total_params}')\n",
        "test_str = \"This Course is an introduction to deep learnin\"\n",
        "predicted_char = predict_next_char(lstm_results['model'], char_to_int, int_to_char, test_str, 20)\n",
        "print(f\"Predicted next character: '{predicted_char}'\")"
      ],
      "metadata": {
        "colab": {
          "base_uri": "https://localhost:8080/"
        },
        "id": "5d9Nvu2u4mBp",
        "outputId": "151f7e3a-2d17-454d-909c-b40f7541f11a"
      },
      "execution_count": null,
      "outputs": [
        {
          "output_type": "stream",
          "name": "stdout",
          "text": [
            "Epoch 1, Training loss: 1.7613, Validation loss: 1.6431, Validation Accuracy: 50.87%\n",
            "Epoch 2, Training loss: 1.6063, Validation loss: 1.5877, Validation Accuracy: 52.25%\n",
            "Epoch 3, Training loss: 1.5711, Validation loss: 1.5749, Validation Accuracy: 52.28%\n",
            "Epoch 4, Training loss: 1.5556, Validation loss: 1.5696, Validation Accuracy: 52.74%\n",
            "Epoch 5, Training loss: 1.5498, Validation loss: 1.5645, Validation Accuracy: 52.74%\n",
            "Epoch 6, Training loss: 1.5469, Validation loss: 1.5677, Validation Accuracy: 52.73%\n",
            "Epoch 7, Training loss: 1.5473, Validation loss: 1.5720, Validation Accuracy: 52.64%\n",
            "Epoch 8, Training loss: 1.5450, Validation loss: 1.5683, Validation Accuracy: 52.88%\n",
            "Epoch 9, Training loss: 1.5503, Validation loss: 1.5782, Validation Accuracy: 52.51%\n",
            "Epoch 10, Training loss: 1.5503, Validation loss: 1.5737, Validation Accuracy: 52.51%\n",
            "Total number of parameters in the model: 148801\n",
            "Predicted next character: 'g'\n"
          ]
        }
      ]
    },
    {
      "cell_type": "code",
      "source": [
        "hidden_size = 128\n",
        "learning_rate = 0.005\n",
        "\n",
        "\n",
        "model = CharGRU(len(chars), hidden_size, len(chars))\n",
        "model.to(device)\n",
        "criterion = nn.CrossEntropyLoss()\n",
        "optimizer = optim.Adam(model.parameters(), lr=learning_rate)\n",
        "gru_results_seqLen_20 = train_and_evaluate_model(model, criterion, optimizer, train_loader, test_loader, device='cuda', n_epochs=10)\n",
        "total_params = sum(p.numel() for p in gru_results_seqLen_20['model'].parameters())\n",
        "print(f'Total number of parameters in the model: {total_params}')\n",
        "test_str = \"Next character predictin\"\n",
        "predicted_char = predict_next_char(gru_results_seqLen_20['model'], char_to_int, int_to_char, test_str, 20)\n",
        "print(f\"Predicted next character: '{predicted_char}'\")"
      ],
      "metadata": {
        "colab": {
          "base_uri": "https://localhost:8080/"
        },
        "id": "qsiVLVdXDuYh",
        "outputId": "cb60a502-2c53-4291-a92c-ab800a09ecd8"
      },
      "execution_count": null,
      "outputs": [
        {
          "output_type": "stream",
          "name": "stdout",
          "text": [
            "Epoch 1, Training loss: 1.8453, Validation loss: 1.7734, Validation Accuracy: 47.06%\n",
            "Epoch 2, Training loss: 1.7572, Validation loss: 1.7717, Validation Accuracy: 48.49%\n",
            "Epoch 3, Training loss: 1.7575, Validation loss: 1.7757, Validation Accuracy: 46.21%\n",
            "Epoch 4, Training loss: 1.7687, Validation loss: 1.7899, Validation Accuracy: 47.14%\n",
            "Epoch 5, Training loss: 1.7823, Validation loss: 1.8094, Validation Accuracy: 46.89%\n",
            "Epoch 6, Training loss: 1.7920, Validation loss: 1.7952, Validation Accuracy: 47.17%\n",
            "Epoch 7, Training loss: 1.8049, Validation loss: 1.8233, Validation Accuracy: 46.33%\n",
            "Epoch 8, Training loss: 1.8058, Validation loss: 1.8257, Validation Accuracy: 46.45%\n",
            "Epoch 9, Training loss: 1.8081, Validation loss: 1.8262, Validation Accuracy: 46.82%\n",
            "Epoch 10, Training loss: 1.8151, Validation loss: 1.8248, Validation Accuracy: 46.56%\n",
            "Total number of parameters in the model: 115777\n",
            "Predicted next character: 'g'\n"
          ]
        }
      ]
    },
    {
      "cell_type": "code",
      "source": [
        "sequence_length = 30\n",
        "# Create a character mapping to integers\n",
        "chars = sorted(list(set(text)))\n",
        "char_to_int = {ch: i for i, ch in enumerate(chars)}\n",
        "int_to_char = {i: ch for i, ch in enumerate(chars)}\n",
        "\n",
        "# Encode the text into integers\n",
        "encoded_text = [char_to_int[ch] for ch in text]\n",
        "\n",
        "# Create sequences and targets\n",
        "sequences = []\n",
        "targets = []\n",
        "for i in range(0, len(encoded_text) - sequence_length):\n",
        "    seq = encoded_text[i:i+sequence_length]\n",
        "    target = encoded_text[i+sequence_length]\n",
        "    sequences.append(seq)\n",
        "    targets.append(target)\n",
        "\n",
        "# Convert lists to PyTorch tensors\n",
        "sequences = torch.tensor(sequences, dtype=torch.long)\n",
        "targets = torch.tensor(targets, dtype=torch.long)\n",
        "\n",
        "# Instantiate the dataset\n",
        "dataset = CharDataset(sequences, targets)\n",
        "\n",
        "# Step 4: Create data loaders\n",
        "batch_size = 128\n",
        "train_size = int(len(dataset) * 0.8)\n",
        "test_size = len(dataset) - train_size\n",
        "train_dataset, test_dataset = torch.utils.data.random_split(dataset, [train_size, test_size])\n",
        "\n",
        "train_loader = DataLoader(train_dataset, shuffle=True, batch_size=batch_size)\n",
        "test_loader = DataLoader(test_dataset, shuffle=False, batch_size=batch_size)\n"
      ],
      "metadata": {
        "id": "4spZdqWoMLUS"
      },
      "execution_count": null,
      "outputs": []
    },
    {
      "cell_type": "code",
      "source": [
        "hidden_size = 128\n",
        "learning_rate = 0.005\n",
        "\n",
        "\n",
        "model = CharLstm(len(chars), hidden_size, len(chars))\n",
        "model.to(device)\n",
        "criterion = nn.CrossEntropyLoss()\n",
        "optimizer = optim.Adam(model.parameters(), lr=learning_rate)\n",
        "lstm_res_seqLen_30 = train_and_evaluate_model(model, criterion, optimizer, train_loader, test_loader, device='cuda', n_epochs=10)\n",
        "total_params = sum(p.numel() for p in lstm_res_seqLen_30['model'].parameters())\n",
        "print(f'Total number of parameters in the model: {total_params}')\n",
        "test_str = \"Next character predictin\"\n",
        "predicted_char = predict_next_char(lstm_res_seqLen_30['model'], char_to_int, int_to_char, test_str, 30)\n",
        "print(f\"Predicted next character: '{predicted_char}'\")"
      ],
      "metadata": {
        "colab": {
          "base_uri": "https://localhost:8080/"
        },
        "id": "44m2UbDeMOFa",
        "outputId": "ec5fb09d-6356-4978-eaaa-344d200f091c"
      },
      "execution_count": null,
      "outputs": [
        {
          "output_type": "stream",
          "name": "stdout",
          "text": [
            "Epoch 1, Training loss: 1.7503, Validation loss: 1.6290, Validation Accuracy: 51.21%\n",
            "Epoch 2, Training loss: 1.5921, Validation loss: 1.5803, Validation Accuracy: 52.50%\n",
            "Epoch 3, Training loss: 1.5590, Validation loss: 1.5661, Validation Accuracy: 53.17%\n",
            "Epoch 4, Training loss: 1.5439, Validation loss: 1.5592, Validation Accuracy: 52.94%\n",
            "Epoch 5, Training loss: 1.5378, Validation loss: 1.5469, Validation Accuracy: 53.50%\n",
            "Epoch 6, Training loss: 1.5352, Validation loss: 1.5610, Validation Accuracy: 53.15%\n",
            "Epoch 7, Training loss: 1.5369, Validation loss: 1.5611, Validation Accuracy: 52.67%\n",
            "Epoch 8, Training loss: 1.5355, Validation loss: 1.5508, Validation Accuracy: 53.43%\n",
            "Epoch 9, Training loss: 1.5385, Validation loss: 1.5663, Validation Accuracy: 52.81%\n",
            "Epoch 10, Training loss: 1.5403, Validation loss: 1.5591, Validation Accuracy: 53.05%\n",
            "Total number of parameters in the model: 148801\n",
            "Predicted next character: 'g'\n"
          ]
        }
      ]
    },
    {
      "cell_type": "code",
      "source": [
        "hidden_size = 128\n",
        "learning_rate = 0.005\n",
        "\n",
        "\n",
        "model = CharGRU(len(chars), hidden_size, len(chars))\n",
        "model.to(device)\n",
        "criterion = nn.CrossEntropyLoss()\n",
        "optimizer = optim.Adam(model.parameters(), lr=learning_rate)\n",
        "gru_results_seqLen_30 = train_and_evaluate_model(model, criterion, optimizer, train_loader, test_loader, device='cuda', n_epochs=10)\n",
        "total_params = sum(p.numel() for p in gru_results_seqLen_30['model'].parameters())\n",
        "print(f'Total number of parameters in the model: {total_params}')\n",
        "test_str = \"Next character predictin\"\n",
        "predicted_char = predict_next_char(gru_results_seqLen_30['model'], char_to_int, int_to_char, test_str, 30)\n",
        "print(f\"Predicted next character: '{predicted_char}'\")"
      ],
      "metadata": {
        "id": "rog_stXhMUCL",
        "outputId": "75b0e456-9c5f-478c-b749-32fd36af953c",
        "colab": {
          "base_uri": "https://localhost:8080/"
        }
      },
      "execution_count": null,
      "outputs": [
        {
          "output_type": "stream",
          "name": "stdout",
          "text": [
            "Epoch 1, Training loss: 1.8354, Validation loss: 1.7691, Validation Accuracy: 47.76%\n",
            "Epoch 2, Training loss: 1.7556, Validation loss: 1.7675, Validation Accuracy: 48.14%\n",
            "Epoch 3, Training loss: 1.7588, Validation loss: 1.7840, Validation Accuracy: 48.00%\n",
            "Epoch 4, Training loss: 1.7719, Validation loss: 1.7892, Validation Accuracy: 47.97%\n",
            "Epoch 5, Training loss: 1.7832, Validation loss: 1.8072, Validation Accuracy: 46.75%\n",
            "Epoch 6, Training loss: 1.7981, Validation loss: 1.8170, Validation Accuracy: 47.08%\n",
            "Epoch 7, Training loss: 1.8266, Validation loss: 1.8404, Validation Accuracy: 46.19%\n",
            "Epoch 8, Training loss: 1.8262, Validation loss: 1.8520, Validation Accuracy: 45.67%\n",
            "Epoch 9, Training loss: 1.8175, Validation loss: 1.8081, Validation Accuracy: 47.47%\n",
            "Epoch 10, Training loss: 1.8198, Validation loss: 1.8496, Validation Accuracy: 46.87%\n",
            "Total number of parameters in the model: 115777\n",
            "Predicted next character: 'g'\n"
          ]
        }
      ]
    },
    {
      "cell_type": "code",
      "source": [
        "hidden_size = 256\n",
        "learning_rate = 0.001\n",
        "\n",
        "\n",
        "model = CharLstm(len(chars), hidden_size, len(chars))\n",
        "model.to(device)\n",
        "criterion = nn.CrossEntropyLoss()\n",
        "optimizer = optim.Adam(model.parameters(), lr=learning_rate)\n",
        "lstm_results_seqLen_20 = train_and_evaluate_model(model, criterion, optimizer, train_loader, test_loader, device='cuda', n_epochs=10)\n",
        "total_params = sum(p.numel() for p in lstm_results_seqLen_20['model'].parameters())\n",
        "print(f'Total number of parameters in the model: {total_params}')\n",
        "test_str = \"Next character predictin\"\n",
        "predicted_char = predict_next_char(lstm_results_seqLen_20['model'], char_to_int, int_to_char, test_str, 30)\n",
        "print(f\"Predicted next character: '{predicted_char}'\")"
      ],
      "metadata": {
        "id": "wld_eQiAMadO",
        "outputId": "5b4b21ed-f4df-47ae-f63d-4cf0a6046ba9",
        "colab": {
          "base_uri": "https://localhost:8080/"
        }
      },
      "execution_count": null,
      "outputs": [
        {
          "output_type": "stream",
          "name": "stdout",
          "text": [
            "Epoch 1, Training loss: 1.7003, Validation loss: 1.5382, Validation Accuracy: 53.41%\n",
            "Epoch 2, Training loss: 1.4778, Validation loss: 1.4601, Validation Accuracy: 55.46%\n",
            "Epoch 3, Training loss: 1.4169, Validation loss: 1.4270, Validation Accuracy: 56.39%\n",
            "Epoch 4, Training loss: 1.3804, Validation loss: 1.4030, Validation Accuracy: 56.91%\n",
            "Epoch 5, Training loss: 1.3550, Validation loss: 1.3856, Validation Accuracy: 57.50%\n",
            "Epoch 6, Training loss: 1.3359, Validation loss: 1.3770, Validation Accuracy: 57.78%\n",
            "Epoch 7, Training loss: 1.3214, Validation loss: 1.3711, Validation Accuracy: 57.92%\n",
            "Epoch 8, Training loss: 1.3090, Validation loss: 1.3665, Validation Accuracy: 57.95%\n",
            "Epoch 9, Training loss: 1.2969, Validation loss: 1.3630, Validation Accuracy: 57.92%\n",
            "Epoch 10, Training loss: 1.2875, Validation loss: 1.3619, Validation Accuracy: 58.23%\n",
            "Total number of parameters in the model: 559681\n",
            "Predicted next character: 'g'\n"
          ]
        }
      ]
    },
    {
      "cell_type": "code",
      "source": [
        "hidden_size = 256\n",
        "learning_rate = 0.001\n",
        "epochs = 10\n",
        "\n",
        "model = CharGRU(len(chars), hidden_size, len(chars))\n",
        "model.to(device)\n",
        "criterion = nn.CrossEntropyLoss()\n",
        "optimizer = optim.Adam(model.parameters(), lr=learning_rate)\n",
        "gru_results_seqLen_20 = train_and_evaluate_model(model, criterion, optimizer, train_loader, test_loader, device='cuda', n_epochs=10)\n",
        "total_params = sum(p.numel() for p in gru_results_seqLen_20['model'].parameters())\n",
        "print(f'Total number of parameters in the model: {total_params}')\n",
        "test_str = \"Next character predictin\"\n",
        "predicted_char = predict_next_char(gru_results_seqLen_20['model'], char_to_int, int_to_char, test_str, 30)\n",
        "print(f\"Predicted next character: '{predicted_char}'\")"
      ],
      "metadata": {
        "id": "Kz_wtJhoN5cm",
        "outputId": "81bdd4dd-4f46-45eb-f3fe-17a89a0d1a2d",
        "colab": {
          "base_uri": "https://localhost:8080/"
        }
      },
      "execution_count": null,
      "outputs": [
        {
          "output_type": "stream",
          "name": "stdout",
          "text": [
            "Epoch 1, Training loss: 1.6899, Validation loss: 1.5385, Validation Accuracy: 53.75%\n",
            "Epoch 2, Training loss: 1.4949, Validation loss: 1.4799, Validation Accuracy: 55.02%\n",
            "Epoch 3, Training loss: 1.4473, Validation loss: 1.4605, Validation Accuracy: 55.66%\n",
            "Epoch 4, Training loss: 1.4223, Validation loss: 1.4437, Validation Accuracy: 55.87%\n",
            "Epoch 5, Training loss: 1.4057, Validation loss: 1.4379, Validation Accuracy: 55.97%\n",
            "Epoch 6, Training loss: 1.3929, Validation loss: 1.4324, Validation Accuracy: 56.35%\n",
            "Epoch 7, Training loss: 1.3845, Validation loss: 1.4219, Validation Accuracy: 56.67%\n",
            "Epoch 8, Training loss: 1.3786, Validation loss: 1.4168, Validation Accuracy: 56.95%\n",
            "Epoch 9, Training loss: 1.3730, Validation loss: 1.4179, Validation Accuracy: 56.61%\n",
            "Epoch 10, Training loss: 1.3679, Validation loss: 1.4134, Validation Accuracy: 56.89%\n",
            "Total number of parameters in the model: 428097\n",
            "Predicted next character: 'g'\n"
          ]
        }
      ]
    },
    {
      "cell_type": "code",
      "source": [
        "sequence_length = 50\n",
        "# Create a character mapping to integers\n",
        "chars = sorted(list(set(text)))\n",
        "char_to_int = {ch: i for i, ch in enumerate(chars)}\n",
        "int_to_char = {i: ch for i, ch in enumerate(chars)}\n",
        "\n",
        "# Encode the text into integers\n",
        "encoded_text = [char_to_int[ch] for ch in text]\n",
        "\n",
        "# Create sequences and targets\n",
        "sequences = []\n",
        "targets = []\n",
        "for i in range(0, len(encoded_text) - sequence_length):\n",
        "    seq = encoded_text[i:i+sequence_length]\n",
        "    target = encoded_text[i+sequence_length]\n",
        "    sequences.append(seq)\n",
        "    targets.append(target)\n",
        "\n",
        "# Convert lists to PyTorch tensors\n",
        "sequences = torch.tensor(sequences, dtype=torch.long)\n",
        "targets = torch.tensor(targets, dtype=torch.long)\n",
        "\n",
        "# Instantiate the dataset\n",
        "dataset = CharDataset(sequences, targets)\n",
        "\n",
        "# Step 4: Create data loaders\n",
        "batch_size = 128\n",
        "train_size = int(len(dataset) * 0.8)\n",
        "test_size = len(dataset) - train_size\n",
        "train_dataset, test_dataset = torch.utils.data.random_split(dataset, [train_size, test_size])\n",
        "\n",
        "train_loader = DataLoader(train_dataset, shuffle=True, batch_size=batch_size)\n",
        "test_loader = DataLoader(test_dataset, shuffle=False, batch_size=batch_size)\n"
      ],
      "metadata": {
        "id": "ByXyn6cyQZVO"
      },
      "execution_count": null,
      "outputs": []
    },
    {
      "cell_type": "code",
      "source": [
        "hidden_size = 256\n",
        "learning_rate = 0.001\n",
        "epochs = 10\n",
        "\n",
        "model = CharLstm(len(chars), hidden_size, len(chars))\n",
        "model.to(device)\n",
        "criterion = nn.CrossEntropyLoss()\n",
        "optimizer = optim.Adam(model.parameters(), lr=learning_rate)\n",
        "lstm_results_50 = train_and_evaluate_model(model, criterion, optimizer, train_loader, test_loader, device='cuda', n_epochs=10)\n",
        "total_params = sum(p.numel() for p in lstm_results_50['model'].parameters())\n",
        "print(f'Total number of parameters in the model: {total_params}')\n",
        "test_str = \"Next character predictin\"\n",
        "predicted_char = predict_next_char(lstm_results_50['model'], char_to_int, int_to_char, test_str, 30)\n",
        "print(f\"Predicted next character: '{predicted_char}'\")"
      ],
      "metadata": {
        "id": "Meq_ydFrQbZI",
        "outputId": "d9912f4d-82af-4ca9-be82-b439f5acfd1f",
        "colab": {
          "base_uri": "https://localhost:8080/"
        }
      },
      "execution_count": null,
      "outputs": [
        {
          "output_type": "stream",
          "name": "stdout",
          "text": [
            "Epoch 1, Training loss: 1.6963, Validation loss: 1.5258, Validation Accuracy: 53.86%\n",
            "Epoch 2, Training loss: 1.4669, Validation loss: 1.4514, Validation Accuracy: 55.69%\n",
            "Epoch 3, Training loss: 1.4046, Validation loss: 1.4115, Validation Accuracy: 56.83%\n",
            "Epoch 4, Training loss: 1.3678, Validation loss: 1.3939, Validation Accuracy: 57.10%\n",
            "Epoch 5, Training loss: 1.3425, Validation loss: 1.3769, Validation Accuracy: 57.64%\n",
            "Epoch 6, Training loss: 1.3233, Validation loss: 1.3717, Validation Accuracy: 57.95%\n",
            "Epoch 7, Training loss: 1.3078, Validation loss: 1.3607, Validation Accuracy: 58.16%\n",
            "Epoch 8, Training loss: 1.2944, Validation loss: 1.3557, Validation Accuracy: 58.33%\n",
            "Epoch 9, Training loss: 1.2842, Validation loss: 1.3551, Validation Accuracy: 58.35%\n",
            "Epoch 10, Training loss: 1.2745, Validation loss: 1.3453, Validation Accuracy: 58.76%\n",
            "Total number of parameters in the model: 559681\n",
            "Predicted next character: 'g'\n"
          ]
        }
      ]
    },
    {
      "cell_type": "code",
      "source": [
        "hidden_size = 256\n",
        "learning_rate = 0.001\n",
        "epochs = 10\n",
        "\n",
        "model = CharGRU(len(chars), hidden_size, len(chars))\n",
        "model.to(device)\n",
        "criterion = nn.CrossEntropyLoss()\n",
        "optimizer = optim.Adam(model.parameters(), lr=learning_rate)\n",
        "gru_results_50 = train_and_evaluate_model(model, criterion, optimizer, train_loader, test_loader, device='cuda', n_epochs=10)\n",
        "total_params = sum(p.numel() for p in gru_results_50['model'].parameters())\n",
        "print(f'Total number of parameters in the model: {total_params}')\n",
        "test_str = \"Next character predictin\"\n",
        "predicted_char = predict_next_char(gru_results_50['model'], char_to_int, int_to_char, test_str, 30)\n",
        "print(f\"Predicted next character: '{predicted_char}'\")"
      ],
      "metadata": {
        "id": "MteyyiRQQkIp"
      },
      "execution_count": null,
      "outputs": []
    }
  ]
}