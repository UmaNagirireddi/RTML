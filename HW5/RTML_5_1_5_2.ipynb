{
  "nbformat": 4,
  "nbformat_minor": 0,
  "metadata": {
    "colab": {
      "provenance": [],
      "machine_shape": "hm",
      "gpuType": "V100",
      "include_colab_link": true
    },
    "kernelspec": {
      "name": "python3",
      "display_name": "Python 3"
    },
    "language_info": {
      "name": "python"
    },
    "accelerator": "GPU"
  },
  "cells": [
    {
      "cell_type": "markdown",
      "metadata": {
        "id": "view-in-github",
        "colab_type": "text"
      },
      "source": [
        "<a href=\"https://colab.research.google.com/github/UmaNagirireddi/RTML/blob/main/HW5/RTML_5_1_5_2.ipynb\" target=\"_parent\"><img src=\"https://colab.research.google.com/assets/colab-badge.svg\" alt=\"Open In Colab\"/></a>"
      ]
    },
    {
      "cell_type": "markdown",
      "source": [
        "**Problem_1**"
      ],
      "metadata": {
        "id": "GusOJt0Y1Fzb"
      }
    },
    {
      "cell_type": "code",
      "execution_count": null,
      "metadata": {
        "colab": {
          "base_uri": "https://localhost:8080/"
        },
        "id": "wmck7CX7MW2q",
        "outputId": "9ac4ef66-1581-4c07-ecb4-87446ef6f4a8"
      },
      "outputs": [
        {
          "output_type": "stream",
          "name": "stdout",
          "text": [
            "Collecting torchinfo\n",
            "  Downloading torchinfo-1.8.0-py3-none-any.whl (23 kB)\n",
            "Installing collected packages: torchinfo\n",
            "Successfully installed torchinfo-1.8.0\n"
          ]
        }
      ],
      "source": [
        "!pip install torchinfo\n",
        "\n",
        "import torch\n",
        "import torch.nn as nn\n",
        "import torch.optim as optim\n",
        "import numpy as np\n",
        "from sklearn.model_selection import train_test_split\n",
        "import time\n",
        "import numpy as np\n",
        "import torchinfo"
      ]
    },
    {
      "cell_type": "code",
      "source": [
        "# Sample text\n",
        "text = '''Next character prediction is a fundamental task in the field of natural language processing (NLP) that involves predicting the next character in a sequence of text based on the characters that precede it. This task is essential for various applications, including text auto-completion, spell checking, and even in the development of sophisticated AI models capable of generating human-like text. At its core, next character prediction relies on statistical models or deep learning algorithms to analyze a given sequence of text and predict which character is most likely to follow. These predictions are based on patterns and relationships learned from large datasets of text during the training phase of the model. One of the most popular approaches to next character prediction involves the use of Recurrent Neural Networks (RNNs), and more specifically, a variant called Long Short-Term Memory (LSTM) networks. RNNs are particularly well-suited for sequential data like text, as they can maintain information in 'memory' about previous characters to inform the prediction of the next character. LSTM networks enhance this capability by being able to remember long-term dependencies, making them even more effective for next character prediction tasks. Training a model for next character prediction involves feeding it large amounts of text data, allowing it to learn the probability of each character's appearance following a sequence of characters. During this training process, the model adjusts its parameters to minimize the difference between its predictions and the actual outcomes, thus improving its predictive accuracy over time. Once trained, the model can be used to predict the next character in a given piece of text by considering the sequence of characters that precede it. This can enhance user experience in text editing software, improve efficiency in coding environments with auto-completion features, and enable more natural interactions with AI-based chatbots and virtual assistants. In summary, next character prediction plays a crucial role in enhancing the capabilities of various NLP applications, making text-based interactions more efficient, accurate, and human-like. Through the use of advanced machine learning models like RNNs and LSTMs, next character prediction continues to evolve, opening new possibilities for the future of text-based technology.'''\n",
        "\n",
        "max_length = 10\n",
        "sequences = [text[i:i + max_length] for i in range(len(text) - max_length)]\n",
        "labels = [text[i + max_length] for i in range(len(text) - max_length)]\n",
        "chars = sorted(set(text))\n",
        "char_to_ix = {ch: i for i, ch in enumerate(chars)}\n",
        "X, y = torch.tensor([[char_to_ix[ch] for ch in seq] for seq in sequences], dtype=torch.long), torch.tensor([char_to_ix[label] for label in labels], dtype=torch.long)\n",
        "X_train, X_val, y_train, y_val = train_test_split(X, y, test_size=0.2, random_state=42)\n"
      ],
      "metadata": {
        "id": "5uXd3ovnzW8p"
      },
      "execution_count": null,
      "outputs": []
    },
    {
      "cell_type": "code",
      "source": [
        "# Define Transformer model\n",
        "class CharTransformer(nn.Module):\n",
        "    def __init__(self, input_size, hidden_size, output_size, num_layers, nhead):\n",
        "        super(CharTransformer, self).__init__()\n",
        "        self.embedding = nn.Embedding(input_size, hidden_size)\n",
        "        encoder_layers = nn.TransformerEncoderLayer(hidden_size, nhead)\n",
        "        self.transformer_encoder = nn.TransformerEncoder(encoder_layers, num_layers)\n",
        "        self.fc = nn.Linear(hidden_size, output_size)\n",
        "\n",
        "    def forward(self, x):\n",
        "        embedded = self.embedding(x)\n",
        "        transformer_output = self.transformer_encoder(embedded)\n",
        "        output = self.fc(transformer_output[:, -1, :])  # Get output of last Transformer block\n",
        "        return output\n",
        "\n",
        "hidden_size, num_layers, nhead = 128, 3, 2\n",
        "learning_rate, epochs = 0.001, 50\n",
        "\n",
        "model = CharTransformer(len(chars), hidden_size, len(chars), num_layers, nhead)\n",
        "criterion = nn.CrossEntropyLoss()\n",
        "optimizer = optim.Adam(model.parameters(), lr=learning_rate)\n",
        "\n",
        "print(torchinfo.summary(model, input_data=X_train))"
      ],
      "metadata": {
        "colab": {
          "base_uri": "https://localhost:8080/"
        },
        "id": "WqaTYJFdzcoI",
        "outputId": "5d257eed-eef6-4de7-9dee-d27dde91252e"
      },
      "execution_count": null,
      "outputs": [
        {
          "output_type": "stream",
          "name": "stderr",
          "text": [
            "/usr/local/lib/python3.10/dist-packages/torch/nn/modules/transformer.py:286: UserWarning: enable_nested_tensor is True, but self.use_nested_tensor is False because encoder_layer.self_attn.batch_first was not True(use batch_first for better inference performance)\n",
            "  warnings.warn(f\"enable_nested_tensor is True, but self.use_nested_tensor is False because {why_not_sparsity_fast_path}\")\n"
          ]
        },
        {
          "output_type": "stream",
          "name": "stdout",
          "text": [
            "===============================================================================================\n",
            "Layer (type:depth-idx)                        Output Shape              Param #\n",
            "===============================================================================================\n",
            "CharTransformer                               [1900, 44]                --\n",
            "├─Embedding: 1-1                              [1900, 10, 128]           5,632\n",
            "├─TransformerEncoder: 1-2                     [1900, 10, 128]           --\n",
            "│    └─ModuleList: 2-1                        --                        --\n",
            "│    │    └─TransformerEncoderLayer: 3-1      [1900, 10, 128]           593,024\n",
            "│    │    └─TransformerEncoderLayer: 3-2      [1900, 10, 128]           593,024\n",
            "│    │    └─TransformerEncoderLayer: 3-3      [1900, 10, 128]           593,024\n",
            "├─Linear: 1-3                                 [1900, 44]                5,676\n",
            "===============================================================================================\n",
            "Total params: 1,790,380\n",
            "Trainable params: 1,790,380\n",
            "Non-trainable params: 0\n",
            "Total mult-adds (G): 3.03\n",
            "===============================================================================================\n",
            "Input size (MB): 0.15\n",
            "Forward/backward pass size (MB): 1129.12\n",
            "Params size (MB): 6.37\n",
            "Estimated Total Size (MB): 1135.64\n",
            "===============================================================================================\n"
          ]
        }
      ]
    },
    {
      "cell_type": "code",
      "source": [
        "# Training the model\n",
        "total_start_time = time.time()\n",
        "for epoch in range(epochs):\n",
        "    start_time = time.time()\n",
        "    model.train()\n",
        "    optimizer.zero_grad()\n",
        "    output = model(X_train)\n",
        "    loss = criterion(output, y_train)\n",
        "    loss.backward()\n",
        "    optimizer.step()\n",
        "\n",
        "    # Validation\n",
        "    model.eval()\n",
        "    with torch.no_grad():\n",
        "        val_output = model(X_val)\n",
        "        val_loss = criterion(val_output, y_val)\n",
        "        _, predicted = torch.max(val_output, 1)\n",
        "        val_accuracy = (predicted == y_val).float().mean()\n",
        "\n",
        "    if (epoch+1) % 5 == 0:\n",
        "        end_time = time.time()\n",
        "        execution_time = end_time - start_time\n",
        "        print(f'Epoch {epoch+1}, Loss: {loss.item()}, Validation Loss: {val_loss.item()}, Validation Accuracy: {val_accuracy.item()}, Execution Time: {execution_time} seconds')\n",
        "\n",
        "total_end_time = time.time()\n",
        "total_execution_time = total_end_time - total_start_time\n",
        "print(f'Total Execution Time: {total_execution_time} seconds')"
      ],
      "metadata": {
        "colab": {
          "base_uri": "https://localhost:8080/"
        },
        "id": "3zzIPxYANSdh",
        "outputId": "081f01e3-ac23-4890-b588-61e6f4813115"
      },
      "execution_count": null,
      "outputs": [
        {
          "output_type": "stream",
          "name": "stderr",
          "text": [
            "/usr/local/lib/python3.10/dist-packages/torch/nn/modules/transformer.py:286: UserWarning: enable_nested_tensor is True, but self.use_nested_tensor is False because encoder_layer.self_attn.batch_first was not True(use batch_first for better inference performance)\n",
            "  warnings.warn(f\"enable_nested_tensor is True, but self.use_nested_tensor is False because {why_not_sparsity_fast_path}\")\n"
          ]
        },
        {
          "output_type": "stream",
          "name": "stdout",
          "text": [
            "===============================================================================================\n",
            "Layer (type:depth-idx)                        Output Shape              Param #\n",
            "===============================================================================================\n",
            "CharTransformer                               [1900, 44]                --\n",
            "├─Embedding: 1-1                              [1900, 10, 128]           5,632\n",
            "├─TransformerEncoder: 1-2                     [1900, 10, 128]           --\n",
            "│    └─ModuleList: 2-1                        --                        --\n",
            "│    │    └─TransformerEncoderLayer: 3-1      [1900, 10, 128]           593,024\n",
            "│    │    └─TransformerEncoderLayer: 3-2      [1900, 10, 128]           593,024\n",
            "│    │    └─TransformerEncoderLayer: 3-3      [1900, 10, 128]           593,024\n",
            "├─Linear: 1-3                                 [1900, 44]                5,676\n",
            "===============================================================================================\n",
            "Total params: 1,790,380\n",
            "Trainable params: 1,790,380\n",
            "Non-trainable params: 0\n",
            "Total mult-adds (G): 3.03\n",
            "===============================================================================================\n",
            "Input size (MB): 0.15\n",
            "Forward/backward pass size (MB): 1129.12\n",
            "Params size (MB): 6.37\n",
            "Estimated Total Size (MB): 1135.64\n",
            "===============================================================================================\n",
            "Epoch 5, Loss: 2.901587724685669, Validation Loss: 2.791863441467285, Validation Accuracy: 0.1617647111415863, Execution Time: 4.586938858032227 seconds\n",
            "Epoch 10, Loss: 2.600097894668579, Validation Loss: 2.5507779121398926, Validation Accuracy: 0.2310924381017685, Execution Time: 4.380142450332642 seconds\n",
            "Epoch 15, Loss: 2.4687867164611816, Validation Loss: 2.4403815269470215, Validation Accuracy: 0.28151261806488037, Execution Time: 4.062137603759766 seconds\n",
            "Epoch 20, Loss: 2.3994269371032715, Validation Loss: 2.4156973361968994, Validation Accuracy: 0.2836134433746338, Execution Time: 4.084535598754883 seconds\n",
            "Epoch 25, Loss: 2.3443379402160645, Validation Loss: 2.3935070037841797, Validation Accuracy: 0.2857142984867096, Execution Time: 4.292496919631958 seconds\n",
            "Epoch 30, Loss: 2.307591676712036, Validation Loss: 2.3486554622650146, Validation Accuracy: 0.2899159789085388, Execution Time: 4.517629146575928 seconds\n",
            "Epoch 35, Loss: 2.2827136516571045, Validation Loss: 2.324305534362793, Validation Accuracy: 0.287815123796463, Execution Time: 4.04557991027832 seconds\n",
            "Epoch 40, Loss: 2.2635254859924316, Validation Loss: 2.310004711151123, Validation Accuracy: 0.29831933975219727, Execution Time: 4.008071184158325 seconds\n",
            "Epoch 45, Loss: 2.243197441101074, Validation Loss: 2.313809871673584, Validation Accuracy: 0.29201680421829224, Execution Time: 4.555510520935059 seconds\n",
            "Epoch 50, Loss: 2.2265727519989014, Validation Loss: 2.304835319519043, Validation Accuracy: 0.29201680421829224, Execution Time: 4.226329565048218 seconds\n",
            "Total Execution Time: 213.36007118225098 seconds\n"
          ]
        }
      ]
    },
    {
      "cell_type": "code",
      "source": [
        "# Sample text\n",
        "text = '''Next character prediction is a fundamental task in the field of natural language processing (NLP) that involves predicting the next character in a sequence of text based on the characters that precede it. This task is essential for various applications, including text auto-completion, spell checking, and even in the development of sophisticated AI models capable of generating human-like text. At its core, next character prediction relies on statistical models or deep learning algorithms to analyze a given sequence of text and predict which character is most likely to follow. These predictions are based on patterns and relationships learned from large datasets of text during the training phase of the model. One of the most popular approaches to next character prediction involves the use of Recurrent Neural Networks (RNNs), and more specifically, a variant called Long Short-Term Memory (LSTM) networks. RNNs are particularly well-suited for sequential data like text, as they can maintain information in 'memory' about previous characters to inform the prediction of the next character. LSTM networks enhance this capability by being able to remember long-term dependencies, making them even more effective for next character prediction tasks. Training a model for next character prediction involves feeding it large amounts of text data, allowing it to learn the probability of each character's appearance following a sequence of characters. During this training process, the model adjusts its parameters to minimize the difference between its predictions and the actual outcomes, thus improving its predictive accuracy over time. Once trained, the model can be used to predict the next character in a given piece of text by considering the sequence of characters that precede it. This can enhance user experience in text editing software, improve efficiency in coding environments with auto-completion features, and enable more natural interactions with AI-based chatbots and virtual assistants. In summary, next character prediction plays a crucial role in enhancing the capabilities of various NLP applications, making text-based interactions more efficient, accurate, and human-like. Through the use of advanced machine learning models like RNNs and LSTMs, next character prediction continues to evolve, opening new possibilities for the future of text-based technology.'''\n",
        "\n",
        "# Preparing the dataset for sequence prediction\n",
        "max_length = 20  # Maximum length of input sequences\n",
        "sequences = [text[i:i + max_length] for i in range(len(text) - max_length)]\n",
        "labels = [text[i + max_length] for i in range(len(text) - max_length)]\n",
        "\n",
        "# Creating character vocabulary\n",
        "chars = sorted(list(set(text)))\n",
        "char_to_ix = {ch: i for i, ch in enumerate(chars)}\n",
        "\n",
        "# Convert sequences and labels to tensors\n",
        "X = torch.tensor([[char_to_ix[ch] for ch in seq] for seq in sequences], dtype=torch.long)\n",
        "y = torch.tensor([char_to_ix[label] for label in labels], dtype=torch.long)\n",
        "\n",
        "# Splitting the dataset into training and validation sets\n",
        "X_train, X_val, y_train, y_val = train_test_split(X, y, test_size=0.2, random_state=42)\n"
      ],
      "metadata": {
        "id": "P5BT-mF0zosB"
      },
      "execution_count": null,
      "outputs": []
    },
    {
      "cell_type": "code",
      "source": [
        "\n",
        "# Define Transformer model\n",
        "class CharTransformer(nn.Module):\n",
        "    def __init__(self, input_size, hidden_size, output_size, num_layers, nhead):\n",
        "        super(CharTransformer, self).__init__()\n",
        "        self.embedding = nn.Embedding(input_size, hidden_size)\n",
        "        self.transformer_encoder = nn.TransformerEncoder(nn.TransformerEncoderLayer(hidden_size, nhead), num_layers)\n",
        "        self.fc = nn.Linear(hidden_size, output_size)\n",
        "\n",
        "    def forward(self, x):\n",
        "        return self.fc(self.transformer_encoder(self.embedding(x))[:, -1, :])\n",
        "\n",
        "# Hyperparameters\n",
        "hidden_size, num_layers, nhead = 128, 3, 2\n",
        "learning_rate, epochs = 0.001, 50\n",
        "\n",
        "# Model, loss, and optimizer\n",
        "model = CharTransformer(len(chars), hidden_size, len(chars), num_layers, nhead)\n",
        "criterion = nn.CrossEntropyLoss()\n",
        "optimizer = optim.Adam(model.parameters(), lr=learning_rate)\n"
      ],
      "metadata": {
        "colab": {
          "base_uri": "https://localhost:8080/"
        },
        "id": "4C2Afgxo0LJP",
        "outputId": "5437df92-b918-4275-b72d-9be681f25b84"
      },
      "execution_count": null,
      "outputs": [
        {
          "output_type": "stream",
          "name": "stderr",
          "text": [
            "/usr/local/lib/python3.10/dist-packages/torch/nn/modules/transformer.py:286: UserWarning: enable_nested_tensor is True, but self.use_nested_tensor is False because encoder_layer.self_attn.batch_first was not True(use batch_first for better inference performance)\n",
            "  warnings.warn(f\"enable_nested_tensor is True, but self.use_nested_tensor is False because {why_not_sparsity_fast_path}\")\n"
          ]
        }
      ]
    },
    {
      "cell_type": "code",
      "source": [
        "\n",
        "# Training the model\n",
        "for epoch in range(epochs):\n",
        "    model.train()\n",
        "    optimizer.zero_grad()\n",
        "    output = model(X_train)\n",
        "    loss = criterion(output, y_train)\n",
        "    loss.backward()\n",
        "    optimizer.step()\n",
        "\n",
        "    # Validation\n",
        "    model.eval()\n",
        "    with torch.no_grad():\n",
        "        val_output = model(X_val)\n",
        "        val_loss = criterion(val_output, y_val)\n",
        "        val_accuracy = (torch.max(val_output, 1)[1] == y_val).float().mean()\n",
        "\n",
        "    if (epoch+1) % 5 == 0:\n",
        "        print(f'Epoch {epoch+1}, Loss: {loss.item()}, Validation Loss: {val_loss.item()}, Validation Accuracy: {val_accuracy.item()}')"
      ],
      "metadata": {
        "colab": {
          "base_uri": "https://localhost:8080/"
        },
        "id": "5ohtYo_k0Q1V",
        "outputId": "2550c2bf-ba62-4851-94e4-f92a4c58a1ed"
      },
      "execution_count": null,
      "outputs": [
        {
          "output_type": "stream",
          "name": "stdout",
          "text": [
            "Epoch 5, Loss: 2.8753092288970947, Validation Loss: 2.748119354248047, Validation Accuracy: 0.24894514679908752\n",
            "Epoch 10, Loss: 2.575629711151123, Validation Loss: 2.5266993045806885, Validation Accuracy: 0.26160338521003723\n",
            "Epoch 15, Loss: 2.4594979286193848, Validation Loss: 2.4707467555999756, Validation Accuracy: 0.26160338521003723\n",
            "Epoch 20, Loss: 2.3932676315307617, Validation Loss: 2.4332962036132812, Validation Accuracy: 0.2594936788082123\n",
            "Epoch 25, Loss: 2.347302198410034, Validation Loss: 2.407989025115967, Validation Accuracy: 0.2763713002204895\n",
            "Epoch 30, Loss: 2.30851149559021, Validation Loss: 2.393947124481201, Validation Accuracy: 0.28270041942596436\n",
            "Epoch 35, Loss: 2.2774720191955566, Validation Loss: 2.3833768367767334, Validation Accuracy: 0.2637130916118622\n",
            "Epoch 40, Loss: 2.2483856678009033, Validation Loss: 2.361375570297241, Validation Accuracy: 0.26582279801368713\n",
            "Epoch 45, Loss: 2.240648031234741, Validation Loss: 2.355828285217285, Validation Accuracy: 0.2721518874168396\n",
            "Epoch 50, Loss: 2.2393507957458496, Validation Loss: 2.3570902347564697, Validation Accuracy: 0.2637130916118622\n"
          ]
        }
      ]
    },
    {
      "cell_type": "code",
      "source": [
        "# Sample text\n",
        "text = '''Next character prediction is a fundamental task in the field of natural language processing (NLP) that involves predicting the next character in a sequence of text based on the characters that precede it. This task is essential for various applications, including text auto-completion, spell checking, and even in the development of sophisticated AI models capable of generating human-like text. At its core, next character prediction relies on statistical models or deep learning algorithms to analyze a given sequence of text and predict which character is most likely to follow. These predictions are based on patterns and relationships learned from large datasets of text during the training phase of the model. One of the most popular approaches to next character prediction involves the use of Recurrent Neural Networks (RNNs), and more specifically, a variant called Long Short-Term Memory (LSTM) networks. RNNs are particularly well-suited for sequential data like text, as they can maintain information in 'memory' about previous characters to inform the prediction of the next character. LSTM networks enhance this capability by being able to remember long-term dependencies, making them even more effective for next character prediction tasks. Training a model for next character prediction involves feeding it large amounts of text data, allowing it to learn the probability of each character's appearance following a sequence of characters. During this training process, the model adjusts its parameters to minimize the difference between its predictions and the actual outcomes, thus improving its predictive accuracy over time. Once trained, the model can be used to predict the next character in a given piece of text by considering the sequence of characters that precede it. This can enhance user experience in text editing software, improve efficiency in coding environments with auto-completion features, and enable more natural interactions with AI-based chatbots and virtual assistants. In summary, next character prediction plays a crucial role in enhancing the capabilities of various NLP applications, making text-based interactions more efficient, accurate, and human-like. Through the use of advanced machine learning models like RNNs and LSTMs, next character prediction continues to evolve, opening new possibilities for the future of text-based technology.'''\n",
        "\n",
        "# Preparing the dataset for sequence prediction\n",
        "max_length = 30  # Maximum length of input sequences\n",
        "sequences = [text[i:i + max_length] for i in range(len(text) - max_length)]\n",
        "labels = [text[i + max_length] for i in range(len(text) - max_length)]\n",
        "\n",
        "# Creating character vocabulary\n",
        "chars = sorted(list(set(text)))\n",
        "char_to_ix = {ch: i for i, ch in enumerate(chars)}\n",
        "\n",
        "# Convert sequences and labels to tensors\n",
        "X = torch.tensor([[char_to_ix[ch] for ch in seq] for seq in sequences], dtype=torch.long)\n",
        "y = torch.tensor([char_to_ix[label] for label in labels], dtype=torch.long)\n",
        "\n",
        "# Splitting the dataset into training and validation sets\n",
        "X_train, X_val, y_train, y_val = train_test_split(X, y, test_size=0.2, random_state=42)\n",
        "\n"
      ],
      "metadata": {
        "id": "UFxi0o6y0zPK"
      },
      "execution_count": null,
      "outputs": []
    },
    {
      "cell_type": "code",
      "source": [
        "# Define Transformer model\n",
        "class CharTransformer(nn.Module):\n",
        "    def __init__(self, input_size, hidden_size, output_size, num_layers, nhead):\n",
        "        super(CharTransformer, self).__init__()\n",
        "        self.embedding = nn.Embedding(input_size, hidden_size)\n",
        "        self.transformer_encoder = nn.TransformerEncoder(nn.TransformerEncoderLayer(hidden_size, nhead), num_layers)\n",
        "        self.fc = nn.Linear(hidden_size, output_size)\n",
        "\n",
        "    def forward(self, x):\n",
        "        embedded = self.embedding(x)\n",
        "        transformer_output = self.transformer_encoder(embedded)\n",
        "        output = self.fc(transformer_output[:, -1, :])  # Get output of last Transformer block\n",
        "        return output\n",
        "\n",
        "# Hyperparameters\n",
        "hidden_size, num_layers, nhead = 128, 2, 2\n",
        "learning_rate, epochs = 0.001, 50\n",
        "\n",
        "# Model, loss, and optimizer\n",
        "model = CharTransformer(len(chars), hidden_size, len(chars), num_layers, nhead)\n",
        "criterion = nn.CrossEntropyLoss()\n",
        "optimizer = optim.Adam(model.parameters(), lr=learning_rate)\n",
        "\n"
      ],
      "metadata": {
        "id": "t7ku3Uyg09ql"
      },
      "execution_count": null,
      "outputs": []
    },
    {
      "cell_type": "code",
      "source": [
        "# Training the model\n",
        "for epoch in range(epochs):\n",
        "    model.train()\n",
        "    optimizer.zero_grad()\n",
        "    output = model(X_train)\n",
        "    loss = criterion(output, y_train)\n",
        "    loss.backward()\n",
        "    optimizer.step()\n",
        "\n",
        "    # Validation\n",
        "    model.eval()\n",
        "    with torch.no_grad():\n",
        "        val_output = model(X_val)\n",
        "        val_loss = criterion(val_output, y_val)\n",
        "        val_accuracy = (torch.argmax(val_output, dim=1) == y_val).float().mean()\n",
        "\n",
        "    if (epoch+1) % 5 == 0:\n",
        "        print(f'Epoch {epoch+1}, Loss: {loss.item()}, Validation Loss: {val_loss.item()}, Validation Accuracy: {val_accuracy.item()}')\n"
      ],
      "metadata": {
        "colab": {
          "base_uri": "https://localhost:8080/"
        },
        "id": "WmTg1zXD1CFC",
        "outputId": "b8d80a41-88c3-4bee-820b-7db37fce7999"
      },
      "execution_count": null,
      "outputs": [
        {
          "output_type": "stream",
          "name": "stdout",
          "text": [
            "Epoch 5, Loss: 2.7416276931762695, Validation Loss: 2.7078185081481934, Validation Accuracy: 0.26483049988746643\n",
            "Epoch 10, Loss: 2.500795602798462, Validation Loss: 2.561040163040161, Validation Accuracy: 0.2330508530139923\n",
            "Epoch 15, Loss: 2.4127399921417236, Validation Loss: 2.5171854496002197, Validation Accuracy: 0.23728813230991364\n",
            "Epoch 20, Loss: 2.357806921005249, Validation Loss: 2.480773687362671, Validation Accuracy: 0.24788135290145874\n",
            "Epoch 25, Loss: 2.313812255859375, Validation Loss: 2.462399959564209, Validation Accuracy: 0.25\n",
            "Epoch 30, Loss: 2.2803871631622314, Validation Loss: 2.457984209060669, Validation Accuracy: 0.24788135290145874\n",
            "Epoch 35, Loss: 2.2599520683288574, Validation Loss: 2.446197986602783, Validation Accuracy: 0.24788135290145874\n",
            "Epoch 40, Loss: 2.2401366233825684, Validation Loss: 2.4405295848846436, Validation Accuracy: 0.25211864709854126\n",
            "Epoch 45, Loss: 2.229083299636841, Validation Loss: 2.4385602474212646, Validation Accuracy: 0.24576270580291748\n",
            "Epoch 50, Loss: 2.2158875465393066, Validation Loss: 2.443751335144043, Validation Accuracy: 0.24576270580291748\n"
          ]
        }
      ]
    },
    {
      "cell_type": "markdown",
      "source": [
        "**Problem_2**"
      ],
      "metadata": {
        "id": "oL0Fe0Mf1fxd"
      }
    },
    {
      "cell_type": "code",
      "source": [
        "import torch\n",
        "import torch.nn as nn\n",
        "import torch.optim as optim\n",
        "from torch.utils.data import Dataset, DataLoader\n",
        "import requests\n",
        "import time\n",
        "import math\n",
        "\n",
        "device = torch.device(\"cuda\" if torch.cuda.is_available() else \"cpu\")"
      ],
      "metadata": {
        "id": "quD-nCCr1eqt"
      },
      "execution_count": null,
      "outputs": []
    },
    {
      "cell_type": "code",
      "source": [
        "# Step 1: Download the dataset\n",
        "url = \"https://raw.githubusercontent.com/karpathy/char-rnn/master/data/tinyshakespeare/input.txt\"\n",
        "text = requests.get(url).text[:20 * (len(requests.get(url).text) // 20)]\n",
        "\n",
        "# Step 2: Prepare the dataset\n",
        "chars = sorted(list(set(text)))\n",
        "char_to_int = {ch: i for i, ch in enumerate(chars)}\n",
        "\n",
        "# Encode the text into integers\n",
        "encoded_text = [char_to_int[ch] for ch in text]\n",
        "\n",
        "# Create sequences and targets\n",
        "sequences = [encoded_text[i:i+20] for i in range(len(encoded_text) - 20)]\n",
        "targets = [encoded_text[i+20] for i in range(len(encoded_text) - 20)]\n",
        "\n",
        "# Convert lists to PyTorch tensors\n",
        "sequences = torch.tensor(sequences, dtype=torch.long)\n",
        "targets = torch.tensor(targets, dtype=torch.long)\n",
        "\n",
        "# Step 3: Create a dataset class\n",
        "class CharDataset(Dataset):\n",
        "    def __init__(self, sequences, targets):\n",
        "        self.sequences = sequences\n",
        "        self.targets = targets\n",
        "\n",
        "    def __len__(self):\n",
        "        return len(self.sequences)\n",
        "\n",
        "    def __getitem__(self, index):\n",
        "        return self.sequences[index], self.targets[index]\n",
        "\n"
      ],
      "metadata": {
        "id": "xS0xNatx2YEo"
      },
      "execution_count": null,
      "outputs": []
    },
    {
      "cell_type": "code",
      "source": [
        "# Instantiate the dataset\n",
        "dataset = CharDataset(sequences, targets)\n",
        "\n",
        "# Step 4: Create data loaders\n",
        "train_size = int(len(dataset) * 0.8)\n",
        "test_size = len(dataset) - train_size\n",
        "train_dataset, test_dataset = torch.utils.data.random_split(dataset, [train_size, test_size])\n",
        "\n",
        "train_loader = DataLoader(train_dataset, shuffle=True, batch_size=128)\n",
        "test_loader = DataLoader(test_dataset, shuffle=False, batch_size=128)\n",
        "\n",
        "class CharModel(nn.Module):\n",
        "    def __init__(self, input_size, hidden_size, output_size):\n",
        "        super(CharModel, self).__init__()\n",
        "        self.hidden_size = hidden_size\n",
        "        self.embedding = nn.Embedding(input_size, hidden_size)\n",
        "        encoder_layer = nn.TransformerEncoderLayer(d_model=hidden_size, nhead=2, dim_feedforward=256, dropout=0.1)\n",
        "        self.transformer_encoder = nn.TransformerEncoder(encoder_layer, num_layers=2)\n",
        "        self.fc = nn.Linear(hidden_size, output_size)\n",
        "\n",
        "    def forward(self, x):\n",
        "        embedded = self.embedding(x)\n",
        "        transformer_output = self.transformer_encoder(embedded)\n",
        "        output = self.fc(transformer_output[:, -1, :])\n",
        "        return output\n",
        "\n"
      ],
      "metadata": {
        "id": "K9Jbvkw_2nnO"
      },
      "execution_count": null,
      "outputs": []
    },
    {
      "cell_type": "code",
      "source": [
        "# Train and evaluate function\n",
        "def train_evaluate(train_loader, val_loader, device):\n",
        "    model = CharModel(len(chars), 512, len(chars)).to(device)\n",
        "    criterion = nn.CrossEntropyLoss()\n",
        "    optimizer = optim.Adam(model.parameters(), lr=0.0001)\n",
        "\n",
        "    start_time = time.time()\n",
        "    for epoch in range(20):\n",
        "        model.train()\n",
        "        train_loss = 0.0\n",
        "        for inputs, targets in train_loader:\n",
        "            inputs, targets = inputs.to(device), targets.to(device)\n",
        "            optimizer.zero_grad()\n",
        "            output = model(inputs)\n",
        "            loss = criterion(output, targets)\n",
        "            loss.backward()\n",
        "            optimizer.step()\n",
        "            train_loss += loss.item() * inputs.size(0)\n",
        "\n",
        "        epoch_train_loss = train_loss / len(train_loader.dataset)\n",
        "\n",
        "        if (epoch+1) % 5 == 0:\n",
        "            model.eval()\n",
        "            val_loss = 0.0\n",
        "            correct = 0\n",
        "            total = 0\n",
        "            with torch.no_grad():\n",
        "                for inputs, targets in val_loader:\n",
        "                    inputs, targets = inputs.to(device), targets.to(device)\n",
        "                    val_output = model(inputs)\n",
        "                    loss = criterion(val_output, targets)\n",
        "                    val_loss += loss.item() * inputs.size(0)\n",
        "\n",
        "            epoch_val_loss = val_loss / len(val_loader.dataset)\n",
        "            print(f'Epoch {epoch+1}, Train Loss: {epoch_train_loss}, Validation Loss: {epoch_val_loss}')\n",
        "\n",
        "    end_time = time.time()\n",
        "    execution_time = end_time - start_time\n",
        "\n",
        "    return epoch_train_loss, epoch_val_loss, execution_time\n",
        "\n",
        "# Train and evaluate models\n",
        "print(\"\\nTraining models...\")\n",
        "loss, val_loss, execution_time = train_evaluate(train_loader, test_loader, torch.device(\"cuda\" if torch.cuda.is_available() else \"cpu\"))\n",
        "\n",
        "# Print and compare results\n",
        "print(\"\\nResults:\")\n",
        "print(f\"Training Loss: {loss}\")\n",
        "print(f\"Validation Loss: {val_loss}\")\n",
        "print(f\"Execution Time: {execution_time} seconds\")\n"
      ],
      "metadata": {
        "colab": {
          "base_uri": "https://localhost:8080/"
        },
        "id": "XmUxMLid2sGh",
        "outputId": "6d33cc07-eb67-4875-e019-f00f35a36cd6"
      },
      "execution_count": null,
      "outputs": [
        {
          "output_type": "stream",
          "name": "stdout",
          "text": [
            "\n",
            "Training models...\n",
            "Epoch 5, Train Loss: 2.472497434018247, Validation Loss: 2.4687606867340266\n",
            "Epoch 10, Train Loss: 2.4679200839421753, Validation Loss: 2.46457775841996\n",
            "Epoch 15, Train Loss: 2.4660417705607576, Validation Loss: 2.4626034912223744\n",
            "Epoch 20, Train Loss: 2.464618385752994, Validation Loss: 2.462831518978731\n",
            "\n",
            "Results:\n",
            "Training Loss: 2.464618385752994\n",
            "Validation Loss: 2.462831518978731\n",
            "Execution Time: 1139.7919027805328 seconds\n"
          ]
        }
      ]
    },
    {
      "cell_type": "code",
      "source": [
        "# Step 1: Download the dataset\n",
        "url = \"https://raw.githubusercontent.com/karpathy/char-rnn/master/data/tinyshakespeare/input.txt\"\n",
        "text = requests.get(url).text[:30 * (len(requests.get(url).text)//30)]  # Truncate text\n",
        "\n",
        "# Character mapping to integers\n",
        "chars = sorted(list(set(text)))\n",
        "char_to_int = {ch: i for i, ch in enumerate(chars)}\n",
        "\n",
        "# Encode text into integers\n",
        "encoded_text = [char_to_int[ch] for ch in text]\n",
        "\n",
        "# Create sequences and targets\n",
        "sequence_length = 30\n",
        "sequences = [encoded_text[i:i+sequence_length] for i in range(len(encoded_text)-sequence_length)]\n",
        "targets = [encoded_text[i+sequence_length] for i in range(len(encoded_text)-sequence_length)]\n",
        "\n",
        "# Convert lists to PyTorch tensors\n",
        "sequences, targets = torch.tensor(sequences, dtype=torch.long), torch.tensor(targets, dtype=torch.long)\n",
        "\n",
        "# Step 3: Create a dataset class\n",
        "class CharDataset(Dataset):\n",
        "    def __init__(self, sequences, targets):\n",
        "        self.sequences, self.targets = sequences, targets\n",
        "\n",
        "    def __len__(self):\n",
        "        return len(self.sequences)\n",
        "\n",
        "    def __getitem__(self, index):\n",
        "        return self.sequences[index], self.targets[index]\n",
        "\n",
        "# Step 4: Instantiate the dataset and create data loaders\n",
        "dataset = CharDataset(sequences, targets)\n",
        "train_size = int(len(dataset) * 0.8)\n",
        "train_dataset, test_dataset = torch.utils.data.random_split(dataset, [train_size, len(dataset) - train_size])\n",
        "train_loader, test_loader = DataLoader(train_dataset, shuffle=True, batch_size=128), DataLoader(test_dataset, shuffle=False, batch_size=128)\n",
        "\n",
        "# Step 5: Define the model\n",
        "class CharModel(nn.Module):\n",
        "    def __init__(self, input_size, hidden_size, output_size, model_type='Transformer', num_layers=2, num_heads=2, dim_feedforward=256, dropout=0.1):\n",
        "        super(CharModel, self).__init__()\n",
        "        self.embedding = nn.Embedding(input_size, hidden_size)\n",
        "        self.transformer_encoder = nn.TransformerEncoder(nn.TransformerEncoderLayer(d_model=hidden_size, nhead=num_heads, dim_feedforward=dim_feedforward, dropout=dropout), num_layers=num_layers)\n",
        "        self.fc = nn.Linear(hidden_size, output_size)\n",
        "\n",
        "    def forward(self, x):\n",
        "        embedded = self.embedding(x)\n",
        "        transformer_output = self.transformer_encoder(embedded)\n",
        "        return self.fc(transformer_output[:, -1, :])\n",
        "\n",
        "\n"
      ],
      "metadata": {
        "id": "Y65oRzla32SM"
      },
      "execution_count": null,
      "outputs": []
    },
    {
      "cell_type": "code",
      "source": [
        "# Train and evaluate function\n",
        "def train_evaluate(model_type, train_loader, val_loader, device):\n",
        "    model = CharModel(len(chars), hidden_size, len(chars), model_type).to(device)\n",
        "    criterion = nn.CrossEntropyLoss()\n",
        "    optimizer = optim.Adam(model.parameters(), lr=0.0001)\n",
        "\n",
        "    start_time = time.time()\n",
        "    for epoch in range(20):\n",
        "        model.train()\n",
        "        train_loss = 0.0\n",
        "        for inputs, targets in train_loader:\n",
        "            inputs, targets = inputs.to(device), targets.to(device)\n",
        "            optimizer.zero_grad()\n",
        "            output = model(inputs)\n",
        "            loss = criterion(output, targets)\n",
        "            loss.backward()\n",
        "            optimizer.step()\n",
        "            train_loss += loss.item() * inputs.size(0)\n",
        "\n",
        "        epoch_train_loss = train_loss / len(train_loader.dataset)\n",
        "\n",
        "        if (epoch+1) % 5 == 0 or epoch == 19:\n",
        "            # Validation\n",
        "            model.eval()\n",
        "            val_loss, correct, total = 0.0, 0, 0\n",
        "            with torch.no_grad():\n",
        "                for inputs, targets in val_loader:\n",
        "                    inputs, targets = inputs.to(device), targets.to(device)\n",
        "                    val_output = model(inputs)\n",
        "                    loss = criterion(val_output, targets)\n",
        "                    val_loss += loss.item() * inputs.size(0)\n",
        "                    _, predicted = torch.max(val_output, 1)\n",
        "                    total += targets.size(0)\n",
        "                    correct += (predicted == targets).sum().item()\n",
        "\n",
        "            epoch_val_loss, epoch_val_accuracy = val_loss / len(val_loader.dataset), correct / total\n",
        "\n",
        "            print(f'Epoch {epoch+1}, Train Loss: {epoch_train_loss}, Validation Loss: {epoch_val_loss}, Validation Accuracy: {epoch_val_accuracy}')\n",
        "\n",
        "    end_time = time.time()\n",
        "    execution_time = end_time - start_time\n",
        "\n",
        "    return epoch_train_loss, epoch_val_loss, epoch_val_accuracy, execution_time\n",
        "\n"
      ],
      "metadata": {
        "id": "eXV8hCpo4Bp4"
      },
      "execution_count": null,
      "outputs": []
    },
    {
      "cell_type": "code",
      "source": [
        "# Define parameters\n",
        "hidden_size, num_layers, num_heads, dim_feedforward, dropout = 512, 2, 2, 256, 0.1\n",
        "device, epochs = torch.device(\"cuda\" if torch.cuda.is_available() else \"cpu\"), 20\n",
        "\n",
        "# Train and evaluate models\n",
        "print(\"\\nTraining models for sequence length: 30\")\n",
        "results = {}\n",
        "for model_type in ['Transformer']:\n",
        "    print(f\"\\nTraining {model_type} model...\")\n",
        "    loss, val_loss, val_accuracy, execution_time = train_evaluate(model_type, train_loader, test_loader, device)\n",
        "    results[model_type] = {\n",
        "        'loss': loss,\n",
        "        'val_loss': val_loss,\n",
        "        'val_accuracy': val_accuracy,\n",
        "        'execution_time': execution_time\n",
        "    }\n",
        "\n",
        "# Print and compare results\n",
        "print(\"\\nResults for sequence length: 30\")\n",
        "for model_type, data in results.items():\n",
        "    print(f\"\\n{model_type} Model:\")\n",
        "    print(f\"Training Loss: {data['loss']}\")\n",
        "    print(f\"Validation Loss: {data['val_loss']}\")\n",
        "    print(f\"Validation Accuracy: {data['val_accuracy']}\")\n",
        "    print(f\"Execution Time: {data['execution_time']} seconds\")"
      ],
      "metadata": {
        "colab": {
          "base_uri": "https://localhost:8080/"
        },
        "id": "5eXGvDIc4GTi",
        "outputId": "b66f517d-1a70-4f5f-a29e-4b29ab57e2e1"
      },
      "execution_count": null,
      "outputs": [
        {
          "output_type": "stream",
          "name": "stdout",
          "text": [
            "\n",
            "Training models for sequence length: 30\n",
            "\n",
            "Training Transformer model...\n"
          ]
        },
        {
          "output_type": "stream",
          "name": "stderr",
          "text": [
            "/usr/local/lib/python3.10/dist-packages/torch/nn/modules/transformer.py:286: UserWarning: enable_nested_tensor is True, but self.use_nested_tensor is False because encoder_layer.self_attn.batch_first was not True(use batch_first for better inference performance)\n",
            "  warnings.warn(f\"enable_nested_tensor is True, but self.use_nested_tensor is False because {why_not_sparsity_fast_path}\")\n"
          ]
        },
        {
          "output_type": "stream",
          "name": "stdout",
          "text": [
            "Epoch 5, Train Loss: 2.4722231779928423, Validation Loss: 2.4711605255866336, Validation Accuracy: 0.26976527336955547\n",
            "Epoch 10, Train Loss: 2.4675313118576483, Validation Loss: 2.469579779022486, Validation Accuracy: 0.27063944626750586\n",
            "Epoch 15, Train Loss: 2.4648077351094395, Validation Loss: 2.4665070803188054, Validation Accuracy: 0.2715136191654563\n",
            "Epoch 20, Train Loss: 2.463641424682019, Validation Loss: 2.4661055199695974, Validation Accuracy: 0.27044219699822475\n",
            "\n",
            "Results for sequence length: 30\n",
            "\n",
            "Transformer Model:\n",
            "Training Loss: 2.463641424682019\n",
            "Validation Loss: 2.4661055199695974\n",
            "Validation Accuracy: 0.27044219699822475\n",
            "Execution Time: 1469.1312699317932 seconds\n"
          ]
        }
      ]
    },
    {
      "cell_type": "code",
      "source": [
        "# Step 1: Download the dataset\n",
        "url = \"https://raw.githubusercontent.com/karpathy/char-rnn/master/data/tinyshakespeare/input.txt\"\n",
        "response = requests.get(url)\n",
        "text = response.text[:200000]  # Limit text to 200,000 characters\n",
        "\n",
        "# Step 2: Prepare the dataset\n",
        "sequence_length = 50\n",
        "text = text[:sequence_length * (len(text)//sequence_length)]  # Truncate text to fit sequence length\n",
        "chars = sorted(list(set(text)))\n",
        "char_to_int = {ch: i for i, ch in enumerate(chars)}\n",
        "int_to_char = {i: ch for i, ch in enumerate(chars)}\n",
        "encoded_text = [char_to_int[ch] for ch in text]\n",
        "\n",
        "# Create sequences and targets\n",
        "sequences = [encoded_text[i:i+sequence_length] for i in range(0, len(encoded_text) - sequence_length)]\n",
        "targets = [encoded_text[i+sequence_length] for i in range(0, len(encoded_text) - sequence_length)]\n",
        "\n",
        "# Convert lists to PyTorch tensors\n",
        "sequences = torch.tensor(sequences, dtype=torch.long)\n",
        "targets = torch.tensor(targets, dtype=torch.long)\n",
        "\n",
        "# Step 3: Create a dataset class\n",
        "class CharDataset(Dataset):\n",
        "    def __init__(self, sequences, targets):\n",
        "        self.sequences = sequences\n",
        "        self.targets = targets\n",
        "\n",
        "    def __len__(self):\n",
        "        return len(self.sequences)\n",
        "\n",
        "    def __getitem__(self, index):\n",
        "        return self.sequences[index], self.targets[index]\n",
        "\n",
        "# Instantiate the dataset\n",
        "dataset = CharDataset(sequences, targets)\n",
        "\n",
        "# Step 4: Create data loaders\n",
        "batch_size = 128\n",
        "train_size = int(len(dataset) * 0.8)\n",
        "test_size = len(dataset) - train_size\n",
        "train_dataset, test_dataset = torch.utils.data.random_split(dataset, [train_size, test_size])\n",
        "train_loader = DataLoader(train_dataset, shuffle=True, batch_size=batch_size)\n",
        "test_loader = DataLoader(test_dataset, shuffle=False, batch_size=batch_size)\n",
        "\n"
      ],
      "metadata": {
        "id": "kAv5hOkU4_Ze"
      },
      "execution_count": null,
      "outputs": []
    },
    {
      "cell_type": "code",
      "source": [
        "\n",
        "class CharModel(nn.Module):\n",
        "    def __init__(self, input_size, hidden_size, output_size, model_type='Transformer', num_layers=2, num_heads=2, dim_feedforward=256, dropout=0.1):\n",
        "        super(CharModel, self).__init__()\n",
        "        self.hidden_size = hidden_size\n",
        "        self.embedding = nn.Embedding(input_size, hidden_size)\n",
        "        if model_type == 'Transformer':\n",
        "            encoder_layer = nn.TransformerEncoderLayer(d_model=hidden_size, nhead=num_heads, dim_feedforward=dim_feedforward, dropout=dropout)\n",
        "            self.transformer_encoder = nn.TransformerEncoder(encoder_layer, num_layers=num_layers)\n",
        "        else:\n",
        "            raise ValueError(\"Invalid model type. Choose 'Transformer'.\")\n",
        "        self.fc = nn.Linear(hidden_size, output_size)\n",
        "\n",
        "    def forward(self, x):\n",
        "        embedded = self.embedding(x)\n",
        "        transformer_output = self.transformer_encoder(embedded)\n",
        "        output = self.fc(transformer_output[:, -1, :])\n",
        "        return output\n",
        "\n",
        "# Train and evaluate function\n",
        "def train_evaluate(model_type, train_loader, val_loader, device):\n",
        "    model = CharModel(len(chars), hidden_size, len(chars), model_type).to(device)\n",
        "    criterion = nn.CrossEntropyLoss()\n",
        "    optimizer = optim.Adam(model.parameters(), lr=learning_rate)\n",
        "\n",
        "    start_time = time.time()\n",
        "    for epoch in range(epochs):\n",
        "        model.train()\n",
        "        train_loss = 0.0\n",
        "        for inputs, targets in train_loader:\n",
        "            inputs, targets = inputs.to(device), targets.to(device)\n",
        "            optimizer.zero_grad()\n",
        "            output = model(inputs)\n",
        "            loss = criterion(output, targets)\n",
        "            loss.backward()\n",
        "            optimizer.step()\n",
        "            train_loss += loss.item() * inputs.size(0)\n",
        "\n",
        "        epoch_train_loss = train_loss / len(train_loader.dataset)\n",
        "\n",
        "        if (epoch + 1) % 5 == 0 or epoch == 0:\n",
        "            model.eval()\n",
        "            val_loss = 0.0\n",
        "            correct = 0\n",
        "            total = 0\n",
        "            with torch.no_grad():\n",
        "                for inputs, targets in val_loader:\n",
        "                    inputs, targets = inputs.to(device), targets.to(device)\n",
        "                    val_output = model(inputs)\n",
        "                    loss = criterion(val_output, targets)\n",
        "                    val_loss += loss.item() * inputs.size(0)\n",
        "\n",
        "            epoch_val_loss = val_loss / len(val_loader.dataset)\n",
        "\n",
        "            print(f'Epoch {epoch+1}, Train Loss: {epoch_train_loss}, Validation Loss: {epoch_val_loss}')\n",
        "\n",
        "    end_time = time.time()\n",
        "    execution_time = end_time - start_time\n",
        "\n",
        "    return epoch_train_loss, epoch_val_loss, execution_time\n",
        "\n"
      ],
      "metadata": {
        "id": "JuQQ6pBL5V-2"
      },
      "execution_count": null,
      "outputs": []
    },
    {
      "cell_type": "code",
      "source": [
        "# Define parameters\n",
        "hidden_size = 512\n",
        "num_layers = 2\n",
        "num_heads = 2\n",
        "dim_feedforward = 256\n",
        "dropout = 0.1\n",
        "learning_rate = 0.0001\n",
        "device = torch.device(\"cuda\" if torch.cuda.is_available() else \"cpu\")\n",
        "epochs = 20\n",
        "\n",
        "# Train and evaluate models for sequence length 50\n",
        "print(\"\\nTraining models for sequence length: 50\")\n",
        "results = {}\n",
        "for model_type in ['Transformer']:\n",
        "    print(f\"\\nTraining {model_type} model...\")\n",
        "    loss, val_loss, execution_time = train_evaluate(model_type, train_loader, test_loader, device)\n",
        "    results[model_type] = {\n",
        "        'loss': loss,\n",
        "        'val_loss': val_loss,\n",
        "        'execution_time': execution_time\n",
        "    }\n",
        "\n",
        "# Print and compare results\n",
        "print(\"\\nResults for sequence length: 50\")\n",
        "for model_type, data in results.items():\n",
        "    print(f\"\\n{model_type} Model:\")\n",
        "    print(f\"Training Loss: {data['loss']}\")\n",
        "    print(f\"Validation Loss: {data['val_loss']}\")\n",
        "    print(f\"Execution Time: {data['execution_time']} seconds\")"
      ],
      "metadata": {
        "colab": {
          "base_uri": "https://localhost:8080/"
        },
        "id": "vus03QAG5Y9V",
        "outputId": "91a5d1b6-abbf-4109-9f9a-ac540ebcac91"
      },
      "execution_count": null,
      "outputs": [
        {
          "output_type": "stream",
          "name": "stdout",
          "text": [
            "\n",
            "Training models for sequence length: 50\n",
            "\n",
            "Training Transformer model...\n"
          ]
        },
        {
          "output_type": "stream",
          "name": "stderr",
          "text": [
            "/usr/local/lib/python3.10/dist-packages/torch/nn/modules/transformer.py:286: UserWarning: enable_nested_tensor is True, but self.use_nested_tensor is False because encoder_layer.self_attn.batch_first was not True(use batch_first for better inference performance)\n",
            "  warnings.warn(f\"enable_nested_tensor is True, but self.use_nested_tensor is False because {why_not_sparsity_fast_path}\")\n"
          ]
        },
        {
          "output_type": "stream",
          "name": "stdout",
          "text": [
            "Epoch 1, Train Loss: 2.5392365783654203, Validation Loss: 2.4550808295335553\n",
            "Epoch 5, Train Loss: 2.440501050419675, Validation Loss: 2.4383642554253333\n",
            "Epoch 10, Train Loss: 2.434343239068091, Validation Loss: 2.4306177715564794\n",
            "Epoch 15, Train Loss: 2.429223425086065, Validation Loss: 2.428668259513113\n",
            "Epoch 20, Train Loss: 2.427266352139106, Validation Loss: 2.425524602123546\n",
            "\n",
            "Results for sequence length: 50\n",
            "\n",
            "Transformer Model:\n",
            "Training Loss: 2.427266352139106\n",
            "Validation Loss: 2.425524602123546\n",
            "Execution Time: 403.91916823387146 seconds\n"
          ]
        }
      ]
    }
  ]
}