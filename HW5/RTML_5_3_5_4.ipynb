{
  "nbformat": 4,
  "nbformat_minor": 0,
  "metadata": {
    "colab": {
      "provenance": [],
      "authorship_tag": "ABX9TyOHHpXNJNlUcV6CUTDqT55K",
      "include_colab_link": true
    },
    "kernelspec": {
      "name": "python3",
      "display_name": "Python 3"
    },
    "language_info": {
      "name": "python"
    }
  },
  "cells": [
    {
      "cell_type": "markdown",
      "metadata": {
        "id": "view-in-github",
        "colab_type": "text"
      },
      "source": [
        "<a href=\"https://colab.research.google.com/github/UmaNagirireddi/RTML/blob/main/HW5/RTML_5_3_5_4.ipynb\" target=\"_parent\"><img src=\"https://colab.research.google.com/assets/colab-badge.svg\" alt=\"Open In Colab\"/></a>"
      ]
    },
    {
      "cell_type": "markdown",
      "source": [
        "**Problem_3**"
      ],
      "metadata": {
        "id": "TGzNlvX47vf-"
      }
    },
    {
      "cell_type": "code",
      "execution_count": 1,
      "metadata": {
        "id": "mp7QAZRN7Goe"
      },
      "outputs": [],
      "source": [
        "import torch\n",
        "import torch.nn as nn\n",
        "import torch.optim as optim\n",
        "from torch.utils.data import DataLoader, Dataset\n",
        "\n",
        "# Device configuration\n",
        "device = torch.device(\"cuda\" if torch.cuda.is_available() else \"cpu\")"
      ]
    },
    {
      "cell_type": "code",
      "source": [
        "# English to French translation dataset\n",
        "english_to_french = [\n",
        "    (\"I am cold\", \"J'ai froid\"),\n",
        "    (\"You are tired\", \"Tu es fatigué\"),\n",
        "    (\"He is hungry\", \"Il a faim\"),\n",
        "    (\"She is happy\", \"Elle est heureuse\"),\n",
        "    (\"We are friends\", \"Nous sommes amis\"),\n",
        "    (\"They are students\", \"Ils sont étudiants\"),\n",
        "    (\"The cat is sleeping\", \"Le chat dort\"),\n",
        "    (\"The sun is shining\", \"Le soleil brille\"),\n",
        "    (\"We love music\", \"Nous aimons la musique\"),\n",
        "    (\"She speaks French fluently\", \"Elle parle français couramment\"),\n",
        "    (\"He enjoys reading books\", \"Il aime lire des livres\"),\n",
        "    (\"They play soccer every weekend\", \"Ils jouent au football chaque week-end\"),\n",
        "    (\"The movie starts at 7 PM\", \"Le film commence à 19 heures\"),\n",
        "    (\"She wears a red dress\", \"Elle porte une robe rouge\"),\n",
        "    (\"We cook dinner together\", \"Nous cuisinons le dîner ensemble\"),\n",
        "    (\"He drives a blue car\", \"Il conduit une voiture bleue\"),\n",
        "    (\"They visit museums often\", \"Ils visitent souvent des musées\"),\n",
        "    (\"The restaurant serves delicious food\", \"Le restaurant sert une délicieuse cuisine\"),\n",
        "    (\"She studies mathematics at university\", \"Elle étudie les mathématiques à l'université\"),\n",
        "    (\"We watch movies on Fridays\", \"Nous regardons des films le vendredi\"),\n",
        "    (\"He listens to music while jogging\", \"Il écoute de la musique en faisant du jogging\"),\n",
        "    (\"They travel around the world\", \"Ils voyagent autour du monde\"),\n",
        "    (\"The book is on the table\", \"Le livre est sur la table\"),\n",
        "    (\"She dances gracefully\", \"Elle danse avec grâce\"),\n",
        "    (\"We celebrate birthdays with cake\", \"Nous célébrons les anniversaires avec un gâteau\"),\n",
        "    (\"He works hard every day\", \"Il travaille dur tous les jours\"),\n",
        "    (\"They speak different languages\", \"Ils parlent différentes langues\"),\n",
        "    (\"The flowers bloom in spring\", \"Les fleurs fleurissent au printemps\"),\n",
        "    (\"She writes poetry in her free time\", \"Elle écrit de la poésie pendant son temps libre\"),\n",
        "    (\"We learn something new every day\", \"Nous apprenons quelque chose de nouveau chaque jour\"),\n",
        "    (\"The dog barks loudly\", \"Le chien aboie bruyamment\"),\n",
        "    (\"He sings beautifully\", \"Il chante magnifiquement\"),\n",
        "    (\"They swim in the pool\", \"Ils nagent dans la piscine\"),\n",
        "    (\"The birds chirp in the morning\", \"Les oiseaux gazouillent le matin\"),\n",
        "    (\"She teaches English at school\", \"Elle enseigne l'anglais à l'école\"),\n",
        "    (\"We eat breakfast together\", \"Nous prenons le petit déjeuner ensemble\"),\n",
        "    (\"He paints landscapes\", \"Il peint des paysages\"),\n",
        "    (\"They laugh at the joke\", \"Ils rient de la blague\"),\n",
        "    (\"The clock ticks loudly\", \"L'horloge tic-tac bruyamment\"),\n",
        "    (\"She runs in the park\", \"Elle court dans le parc\"),\n",
        "    (\"We travel by train\", \"Nous voyageons en train\"),\n",
        "    (\"He writes a letter\", \"Il écrit une lettre\"),\n",
        "    (\"They read books at the library\", \"Ils lisent des livres à la bibliothèque\"),\n",
        "    (\"The baby cries\", \"Le bébé pleure\"),\n",
        "    (\"She studies hard for exams\", \"Elle étudie dur pour les examens\"),\n",
        "    (\"We plant flowers in the garden\", \"Nous plantons des fleurs dans le jardin\"),\n",
        "    (\"He fixes the car\", \"Il répare la voiture\"),\n",
        "    (\"They drink coffee in the morning\", \"Ils boivent du café le matin\"),\n",
        "    (\"The sun sets in the evening\", \"Le soleil se couche le soir\"),\n",
        "    (\"She dances at the party\", \"Elle danse à la fête\"),\n",
        "    (\"We play music at the concert\", \"Nous jouons de la musique au concert\"),\n",
        "    (\"He cooks dinner for his family\", \"Il cuisine le dîner pour sa famille\"),\n",
        "    (\"They study French grammar\", \"Ils étudient la grammaire française\"),\n",
        "    (\"The rain falls gently\", \"La pluie tombe doucement\"),\n",
        "    (\"She sings a song\", \"Elle chante une chanson\"),\n",
        "    (\"We watch a movie together\", \"Nous regardons un film ensemble\"),\n",
        "    (\"He sleeps deeply\", \"Il dort profondément\"),\n",
        "    (\"They travel to Paris\", \"Ils voyagent à Paris\"),\n",
        "    (\"The children play in the park\", \"Les enfants jouent dans le parc\"),\n",
        "    (\"She walks along the beach\", \"Elle se promène le long de la plage\"),\n",
        "    (\"We talk on the phone\", \"Nous parlons au téléphone\"),\n",
        "    (\"He waits for the bus\", \"Il attend le bus\"),\n",
        "    (\"They visit the Eiffel Tower\", \"Ils visitent la tour Eiffel\"),\n",
        "    (\"The stars twinkle at night\", \"Les étoiles scintillent la nuit\"),\n",
        "    (\"She dreams of flying\", \"Elle rêve de voler\"),\n",
        "    (\"We work in the office\", \"Nous travaillons au bureau\"),\n",
        "    (\"He studies history\", \"Il étudie l'histoire\"),\n",
        "    (\"They listen to the radio\", \"Ils écoutent la radio\"),\n",
        "    (\"The wind blows gently\", \"Le vent souffle doucement\"),\n",
        "    (\"She swims in the ocean\", \"Elle nage dans l'océan\"),\n",
        "    (\"We dance at the wedding\", \"Nous dansons au mariage\"),\n",
        "    (\"He climbs the mountain\", \"Il gravit la montagne\"),\n",
        "    (\"They hike in the forest\", \"Ils font de la randonnée dans la forêt\"),\n",
        "    (\"The cat meows loudly\", \"Le chat miaule bruyamment\"),\n",
        "    (\"She paints a picture\", \"Elle peint un tableau\"),\n",
        "    (\"We build a sandcastle\", \"Nous construisons un château de sable\"),\n",
        "    (\"He sings in the choir\", \"Il chante dans le chœur\")\n",
        "]\n",
        ""
      ],
      "metadata": {
        "id": "yNBB28Du76v5"
      },
      "execution_count": 2,
      "outputs": []
    },
    {
      "cell_type": "code",
      "source": [
        "# Define special tokens\n",
        "SOS_token = 0\n",
        "EOS_token = 1\n",
        "\n",
        "# Preparing word-to-index mapping\n",
        "word_to_index = {\"SOS\": SOS_token, \"EOS\": EOS_token}\n",
        "for pair in english_to_french:\n",
        "    for word in pair[0].split() + pair[1].split():\n",
        "        if word not in word_to_index:\n",
        "            word_to_index[word] = len(word_to_index)\n",
        "\n",
        "# Custom Dataset class\n",
        "class TranslationDataset(Dataset):\n",
        "    def __init__(self, dataset, word_to_index):\n",
        "        self.dataset = dataset\n",
        "        self.word_to_index = word_to_index\n",
        "\n",
        "    def __len__(self):\n",
        "        return len(self.dataset)\n",
        "\n",
        "    def __getitem__(self, idx):\n",
        "        input_sentence, target_sentence = self.dataset[idx]\n",
        "        input_indices = [self.word_to_index[word] for word in input_sentence.split()] + [EOS_token]\n",
        "        target_indices = [self.word_to_index[word] for word in target_sentence.split()] + [EOS_token]\n",
        "        return torch.tensor(input_indices, dtype=torch.long), torch.tensor(target_indices, dtype=torch.long)\n",
        "\n"
      ],
      "metadata": {
        "id": "RzPHO5cb8A0F"
      },
      "execution_count": 3,
      "outputs": []
    },
    {
      "cell_type": "code",
      "source": [
        "# DataLoader\n",
        "translation_dataset = TranslationDataset(english_to_french, word_to_index)\n",
        "dataloader = DataLoader(translation_dataset, batch_size=1, shuffle=True)\n",
        "\n",
        "# Transformer model\n",
        "class Transformer(nn.Module):\n",
        "    def __init__(self, input_vocab_size, target_vocab_size, hidden_size, num_layers=2, num_heads=8, dropout=0.1):\n",
        "        super(Transformer, self).__init__()\n",
        "        self.embedding_input = nn.Embedding(input_vocab_size, hidden_size)\n",
        "        self.embedding_target = nn.Embedding(target_vocab_size, hidden_size)\n",
        "        self.transformer = nn.Transformer(\n",
        "            d_model=hidden_size,\n",
        "            nhead=num_heads,\n",
        "            num_encoder_layers=num_layers,\n",
        "            num_decoder_layers=num_layers,\n",
        "            dim_feedforward=hidden_size * 4,\n",
        "            dropout=dropout\n",
        "        )\n",
        "        self.fc = nn.Linear(hidden_size, target_vocab_size)\n",
        "\n",
        "    def forward(self, input, target):\n",
        "        input_embedded = self.embedding_input(input)\n",
        "        target_embedded = self.embedding_target(target)\n",
        "\n",
        "        input_pad_mask = (input == word_to_index[\"EOS\"])\n",
        "        target_pad_mask = (target == word_to_index[\"EOS\"])\n",
        "        target_subsequent_mask = (torch.triu(torch.ones(target.size(1), target.size(1))) == 1).transpose(0, 1)\n",
        "        target_subsequent_mask = target_subsequent_mask.float().masked_fill(target_subsequent_mask == 0, float('-inf')).masked_fill(target_subsequent_mask == 1, float(0.0))\n",
        "\n",
        "        input_embedded = input_embedded.permute(1, 0, 2)\n",
        "        target_embedded = target_embedded.permute(1, 0, 2)\n",
        "\n",
        "        output = self.transformer(\n",
        "            input_embedded,\n",
        "            target_embedded,\n",
        "            src_key_padding_mask=input_pad_mask,\n",
        "            tgt_key_padding_mask=target_pad_mask,\n",
        "            memory_key_padding_mask=input_pad_mask,\n",
        "            tgt_mask=target_subsequent_mask\n",
        "        )\n",
        "\n",
        "        output = self.fc(output)\n",
        "        return output.permute(1, 0, 2)\n",
        "\n"
      ],
      "metadata": {
        "id": "AaNcXsbd8wSe"
      },
      "execution_count": 4,
      "outputs": []
    },
    {
      "cell_type": "code",
      "source": [
        "# Model parameters\n",
        "input_size = len(word_to_index)\n",
        "hidden_size = 64\n",
        "output_size = len(word_to_index)\n",
        "device = torch.device(\"cuda\" if torch.cuda.is_available() else \"cpu\")\n",
        "model = Transformer(input_size, output_size, hidden_size).to(device)\n",
        "\n",
        "# Training configurations\n",
        "learning_rate = 0.0005\n",
        "criterion = nn.CrossEntropyLoss(ignore_index=word_to_index[\"EOS\"])\n",
        "optimizer = optim.Adam(model.parameters(), lr=learning_rate)\n",
        "n_epochs = 20\n",
        "\n",
        "# Training loop\n",
        "for epoch in range(n_epochs):\n",
        "    total_loss = 0\n",
        "    total_correct = 0\n",
        "    total_examples = 0\n",
        "    model.train()\n",
        "\n",
        "    for input_tensor, target_tensor in dataloader:\n",
        "        input_tensor, target_tensor = input_tensor.to(device), target_tensor.to(device)\n",
        "        optimizer.zero_grad()\n",
        "\n",
        "        output = model(input_tensor, target_tensor[:, :-1])\n",
        "        output_dim = output.shape[-1]\n",
        "\n",
        "        output = output.contiguous().view(-1, output_dim)\n",
        "        target_tensor = target_tensor[:, 1:].contiguous().view(-1)\n",
        "\n",
        "        loss = criterion(output, target_tensor)\n",
        "        loss.backward()\n",
        "        optimizer.step()\n",
        "\n",
        "        total_loss += loss.item()\n",
        "\n",
        "        _, predicted = torch.max(output, 1)\n",
        "        correct = (predicted == target_tensor).sum().item()\n",
        "        total_correct += correct\n",
        "        total_examples += target_tensor.size(0)\n",
        "\n",
        "    avg_loss = total_loss / len(dataloader)\n",
        "    training_accuracy = total_correct / total_examples\n",
        "\n",
        "    if (epoch + 1) % 5 == 0:\n",
        "        print(f\"Epoch [{epoch+1}/{n_epochs}], Loss: {avg_loss:.4f}, Training Accuracy: {training_accuracy:.4f}\")\n"
      ],
      "metadata": {
        "colab": {
          "base_uri": "https://localhost:8080/"
        },
        "id": "Ix_O0q_78tXO",
        "outputId": "90eb937a-7c05-4fa3-de6f-a95d4518d543"
      },
      "execution_count": 5,
      "outputs": [
        {
          "output_type": "stream",
          "name": "stderr",
          "text": [
            "/usr/local/lib/python3.10/dist-packages/torch/nn/modules/transformer.py:286: UserWarning: enable_nested_tensor is True, but self.use_nested_tensor is False because encoder_layer.self_attn.batch_first was not True(use batch_first for better inference performance)\n",
            "  warnings.warn(f\"enable_nested_tensor is True, but self.use_nested_tensor is False because {why_not_sparsity_fast_path}\")\n",
            "/usr/local/lib/python3.10/dist-packages/torch/nn/functional.py:5109: UserWarning: Support for mismatched key_padding_mask and attn_mask is deprecated. Use same type for both instead.\n",
            "  warnings.warn(\n"
          ]
        },
        {
          "output_type": "stream",
          "name": "stdout",
          "text": [
            "Epoch [5/20], Loss: 3.6741, Training Accuracy: 0.2133\n",
            "Epoch [10/20], Loss: 2.0229, Training Accuracy: 0.5360\n",
            "Epoch [15/20], Loss: 0.9268, Training Accuracy: 0.7547\n",
            "Epoch [20/20], Loss: 0.3943, Training Accuracy: 0.7893\n"
          ]
        }
      ]
    },
    {
      "cell_type": "code",
      "source": [
        "def evaluate_model(model, dataloader, criterion):\n",
        "    total_loss, total_correct, total_examples = 0, 0, 0\n",
        "    model.eval()\n",
        "\n",
        "    with torch.no_grad():\n",
        "        for input_tensor, target_tensor in dataloader:\n",
        "            input_tensor, target_tensor = input_tensor.to(device), target_tensor.to(device)\n",
        "\n",
        "            output = model(input_tensor, target_tensor[:, :-1])\n",
        "            output = output.contiguous().view(-1, output.shape[-1])\n",
        "            target_tensor = target_tensor[:, 1:].contiguous().view(-1)\n",
        "\n",
        "            total_loss += criterion(output, target_tensor).item()\n",
        "\n",
        "            total_correct += (torch.max(output, 1)[1] == target_tensor).sum().item()\n",
        "            total_examples += target_tensor.size(0)\n",
        "\n",
        "    return total_loss / len(dataloader), total_correct / total_examples\n",
        "\n",
        "eval_loss, eval_accuracy = evaluate_model(model, dataloader, criterion)\n",
        "print(f\"Evaluation Loss: {eval_loss:.4f}, Evaluation Accuracy: {eval_accuracy:.4f}\")\n"
      ],
      "metadata": {
        "colab": {
          "base_uri": "https://localhost:8080/"
        },
        "id": "a59Lp99q9QU_",
        "outputId": "07ce5129-74ab-466f-c9c2-28d42a6db63f"
      },
      "execution_count": 6,
      "outputs": [
        {
          "output_type": "stream",
          "name": "stdout",
          "text": [
            "Evaluation Loss: 0.1551, Evaluation Accuracy: 0.7947\n"
          ]
        }
      ]
    },
    {
      "cell_type": "code",
      "source": [],
      "metadata": {
        "id": "0f6nxlYC_vGz"
      },
      "execution_count": null,
      "outputs": []
    },
    {
      "cell_type": "markdown",
      "source": [
        "**Problem_4**"
      ],
      "metadata": {
        "id": "U6AMt_zs9VQl"
      }
    },
    {
      "cell_type": "code",
      "source": [
        "# Reverse the dataset\n",
        "reversed_dataset = [(target_sentence, input_sentence) for input_sentence, target_sentence in english_to_french]\n",
        "\n",
        "# Special tokens for the start and end of sequences\n",
        "SOS_token = 0  # Start Of Sequence Token\n",
        "EOS_token = 1  # End Of Sequence Token\n",
        "\n",
        "# Modify the word-to-index mapping\n",
        "reversed_word_to_index = {\"SOS\": SOS_token, \"EOS\": EOS_token}\n",
        "for pair in reversed_dataset:\n",
        "    for word in pair[0].split() + pair[1].split():\n",
        "        if word not in reversed_word_to_index:\n",
        "            reversed_word_to_index[word] = len(reversed_word_to_index)\n",
        "\n",
        "# Adjust the TranslationDataset class to generate input and target tensors in the reversed order\n",
        "class ReversedTranslationDataset(Dataset):\n",
        "    def __init__(self, dataset, word_to_index):\n",
        "        self.dataset = dataset\n",
        "        self.word_to_index = word_to_index\n",
        "        self.SOS_token = word_to_index[\"SOS\"]\n",
        "        self.EOS_token = word_to_index[\"EOS\"]\n",
        "\n",
        "    def __len__(self):\n",
        "        return len(self.dataset)\n",
        "\n",
        "    def __getitem__(self, idx):\n",
        "        target_sentence, input_sentence = self.dataset[idx]\n",
        "        input_indices = [self.word_to_index[word] for word in input_sentence.split()] + [self.EOS_token]\n",
        "        target_indices = [self.word_to_index[word] for word in target_sentence.split()] + [self.EOS_token]\n",
        "        return torch.tensor(input_indices), torch.tensor(target_indices)\n",
        "\n",
        "# Creating a DataLoader to batch and shuffle the reversed dataset\n",
        "reversed_translation_dataset = ReversedTranslationDataset(reversed_dataset, reversed_word_to_index)\n",
        "reversed_dataloader = DataLoader(reversed_translation_dataset, batch_size=1, shuffle=True)\n",
        "\n",
        "# Define the Transformer model\n",
        "class Transformer(nn.Module):\n",
        "    def __init__(self, input_vocab_size, target_vocab_size, hidden_size, num_layers=2, num_heads=8, dropout=0.1):\n",
        "        super(Transformer, self).__init__()\n",
        "        self.embedding_input = nn.Embedding(input_vocab_size, hidden_size)\n",
        "        self.embedding_target = nn.Embedding(target_vocab_size, hidden_size)\n",
        "        self.transformer = nn.Transformer(\n",
        "            d_model=hidden_size,\n",
        "            nhead=num_heads,\n",
        "            num_encoder_layers=num_layers,\n",
        "            num_decoder_layers=num_layers,\n",
        "            dim_feedforward=hidden_size * 4,\n",
        "            dropout=dropout\n",
        "        )\n",
        "        self.fc = nn.Linear(hidden_size, target_vocab_size)\n",
        "\n",
        "    def forward(self, input, target, EOS_token):\n",
        "        input_embedded = self.embedding_input(input)\n",
        "        target_embedded = self.embedding_target(target)\n",
        "\n",
        "        input_pad_mask = (input == EOS_token)\n",
        "        target_pad_mask = (target == EOS_token)\n",
        "        target_subsequent_mask = torch.triu(torch.ones(target.size(1), target.size(1))).transpose(0, 1).float().masked_fill(torch.triu(torch.ones(target.size(1), target.size(1))) == 0, float('-inf')).masked_fill(torch.triu(torch.ones(target.size(1), target.size(1))) == 1, float(0.0))\n",
        "\n",
        "        input_embedded = input_embedded.permute(1, 0, 2)\n",
        "        target_embedded = target_embedded.permute(1, 0, 2)\n",
        "\n",
        "        output = self.transformer(\n",
        "            input_embedded,\n",
        "            target_embedded,\n",
        "            src_key_padding_mask=input_pad_mask,\n",
        "            tgt_key_padding_mask=target_pad_mask,\n",
        "            memory_key_padding_mask=input_pad_mask,\n",
        "            tgt_mask=target_subsequent_mask\n",
        "        )\n",
        "\n",
        "        output = self.fc(output)\n",
        "        return output.permute(1, 0, 2)"
      ],
      "metadata": {
        "id": "D8zVHzIY_xta"
      },
      "execution_count": 15,
      "outputs": []
    },
    {
      "cell_type": "code",
      "source": [
        "\n",
        "\n",
        "# Assuming all words in the dataset + 'SOS' and 'EOS' tokens are included in word_to_index\n",
        "input_size = len(reversed_word_to_index)\n",
        "hidden_size = 64\n",
        "output_size = len(reversed_word_to_index)\n",
        "\n",
        "device = torch.device(\"cuda\" if torch.cuda.is_available() else \"cpu\")\n",
        "\n",
        "# Create the Transformer model\n",
        "model = Transformer(input_size, output_size, hidden_size).to(device)\n",
        "\n",
        "# Set the learning rate for optimization\n",
        "learning_rate = 0.0005\n",
        "\n",
        "# Define the loss function and optimizer\n",
        "criterion = nn.CrossEntropyLoss(ignore_index=reversed_word_to_index[\"EOS\"])\n",
        "optimizer = optim.Adam(model.parameters(), lr=learning_rate)\n",
        "\n",
        "# Set number of epochs for training\n",
        "n_epochs = 20\n",
        "\n",
        "# Update the training loop to handle the reversed input-target pairs and print epochs every 5 epochs\n",
        "for epoch in range(n_epochs):\n",
        "    total_loss = 0\n",
        "    total_correct = 0\n",
        "    total_examples = 0\n",
        "\n",
        "    model.train()\n",
        "\n",
        "    for input_tensor, target_tensor in reversed_dataloader:  # Use reversed dataloader\n",
        "        input_tensor = input_tensor.to(device)\n",
        "        target_tensor = target_tensor.to(device)\n",
        "\n",
        "        optimizer.zero_grad()\n",
        "\n",
        "        output = model(input_tensor, target_tensor[:, :-1], EOS_token)  # Pass EOS_token\n",
        "        output_dim = output.shape[-1]\n",
        "\n",
        "        output = output.contiguous().view(-1, output_dim)\n",
        "        target_tensor = target_tensor[:, 1:].contiguous().view(-1)\n",
        "\n",
        "        loss = criterion(output, target_tensor)\n",
        "        loss.backward()\n",
        "        optimizer.step()\n",
        "\n",
        "        total_loss += loss.item()\n",
        "\n",
        "        _, predicted = torch.max(output, 1)\n",
        "        correct = (predicted == target_tensor).sum().item()\n",
        "        total_correct += correct\n",
        "        total_examples += target_tensor.size(0)\n",
        "\n",
        "    avg_loss = total_loss / len(reversed_dataloader)\n",
        "    training_accuracy = total_correct / total_examples\n",
        "\n",
        "    if (epoch + 1) % 5 == 0:\n",
        "        print(f\"Epoch [{epoch+1}/{n_epochs}], Loss: {avg_loss:.4f}, Training Accuracy: {training_accuracy:.4f}\")\n"
      ],
      "metadata": {
        "colab": {
          "base_uri": "https://localhost:8080/"
        },
        "id": "X0Vj4eHR_jFR",
        "outputId": "5096b570-1c19-401e-9f02-4332f2facac9"
      },
      "execution_count": 14,
      "outputs": [
        {
          "output_type": "stream",
          "name": "stdout",
          "text": [
            "Epoch [5/20], Loss: 3.4806, Training Accuracy: 0.2827\n",
            "Epoch [10/20], Loss: 1.7228, Training Accuracy: 0.6187\n",
            "Epoch [15/20], Loss: 0.7191, Training Accuracy: 0.7707\n",
            "Epoch [20/20], Loss: 0.2848, Training Accuracy: 0.7947\n"
          ]
        }
      ]
    },
    {
      "cell_type": "code",
      "source": [
        "def evaluate_model(model, dataloader, criterion, EOS_token):\n",
        "    model.eval()\n",
        "    total_loss = total_correct = total_examples = 0\n",
        "\n",
        "    with torch.no_grad():\n",
        "        for input_tensor, target_tensor in dataloader:\n",
        "            input_tensor, target_tensor = input_tensor.to(device), target_tensor.to(device)\n",
        "\n",
        "            output = model(input_tensor, target_tensor[:, :-1], EOS_token)\n",
        "            loss = criterion(output.contiguous().view(-1, output.shape[-1]), target_tensor[:, 1:].contiguous().view(-1))\n",
        "\n",
        "            total_loss += loss.item()\n",
        "            total_correct += (torch.argmax(output, dim=2) == target_tensor[:, 1:]).sum().item()\n",
        "            total_examples += target_tensor.size(0)\n",
        "\n",
        "    return total_loss / len(dataloader), total_correct / total_examples\n",
        "\n",
        "eval_loss, eval_accuracy = evaluate_model(model, reversed_dataloader, criterion, EOS_token)\n",
        "print(f\"Evaluation Loss: {eval_loss:.4f}, Evaluation Accuracy: {eval_accuracy:.4f}\")\n"
      ],
      "metadata": {
        "colab": {
          "base_uri": "https://localhost:8080/"
        },
        "id": "mSIP-85v_3RN",
        "outputId": "41f84121-39b5-4dd9-fbb2-4fac2fd90761"
      },
      "execution_count": 17,
      "outputs": [
        {
          "output_type": "stream",
          "name": "stdout",
          "text": [
            "Evaluation Loss: 0.1090, Evaluation Accuracy: 3.8701\n"
          ]
        }
      ]
    }
  ]
}